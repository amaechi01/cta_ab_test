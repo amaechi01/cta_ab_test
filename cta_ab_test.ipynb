{
 "cells": [
  {
   "cell_type": "markdown",
   "id": "519aa363",
   "metadata": {},
   "source": [
    "## CLICK THROUGH RATE ($CTR$)\n",
    "\n",
    "This dataset was provided by <name>. It is a simulated data from an experiment to check if click through rate increases when the website's engagement button is changed from \"secure free trial\" to \"enroll now\". \n",
    "\n",
    "In this notebook, a hypothesis test is conducted to verify there is a difference between the $CTRs$ of the experimental group and the control group.\n",
    "\n",
    "The overall strategy is to examine the dataset to understand it, clean and prepare it for the test."
   ]
  },
  {
   "cell_type": "code",
   "execution_count": null,
   "id": "4fb9e9fb",
   "metadata": {},
   "outputs": [],
   "source": [
    "# in this cell, all the needed libraries are imported.\n",
    "import numpy as np # numpy for linear algerbra.\n",
    "import pandas as pd # pandas for data preparation and cleaning.\n",
    "import plotly.express as px # plotly express for graphing\n",
    "import plotly.graph_objects as go\n",
    "from scipy.stats import chi2_contingency, norm, chi2 # chi2_contingency, and norm for chi-squared test.\n",
    "color_palette = ['#E74C3C','#2ECC71'] # definition of color palette."
   ]
  },
  {
   "cell_type": "code",
   "execution_count": 2,
   "id": "3891617f",
   "metadata": {},
   "outputs": [
    {
     "data": {
      "text/html": [
       "<div>\n",
       "<style scoped>\n",
       "    .dataframe tbody tr th:only-of-type {\n",
       "        vertical-align: middle;\n",
       "    }\n",
       "\n",
       "    .dataframe tbody tr th {\n",
       "        vertical-align: top;\n",
       "    }\n",
       "\n",
       "    .dataframe thead th {\n",
       "        text-align: right;\n",
       "    }\n",
       "</style>\n",
       "<table border=\"1\" class=\"dataframe\">\n",
       "  <thead>\n",
       "    <tr style=\"text-align: right;\">\n",
       "      <th></th>\n",
       "      <th>user_id</th>\n",
       "      <th>click</th>\n",
       "      <th>group</th>\n",
       "      <th>timestamp</th>\n",
       "    </tr>\n",
       "  </thead>\n",
       "  <tbody>\n",
       "    <tr>\n",
       "      <th>1540</th>\n",
       "      <td>1541</td>\n",
       "      <td>1</td>\n",
       "      <td>exp</td>\n",
       "      <td>2024-01-02 01:40:00</td>\n",
       "    </tr>\n",
       "    <tr>\n",
       "      <th>9809</th>\n",
       "      <td>9810</td>\n",
       "      <td>1</td>\n",
       "      <td>exp</td>\n",
       "      <td>2024-01-07 19:29:00</td>\n",
       "    </tr>\n",
       "    <tr>\n",
       "      <th>6193</th>\n",
       "      <td>6194</td>\n",
       "      <td>1</td>\n",
       "      <td>exp</td>\n",
       "      <td>2024-01-05 07:13:00</td>\n",
       "    </tr>\n",
       "    <tr>\n",
       "      <th>16407</th>\n",
       "      <td>16408</td>\n",
       "      <td>1</td>\n",
       "      <td>con</td>\n",
       "      <td>NaN</td>\n",
       "    </tr>\n",
       "    <tr>\n",
       "      <th>12803</th>\n",
       "      <td>12804</td>\n",
       "      <td>0</td>\n",
       "      <td>con</td>\n",
       "      <td>NaN</td>\n",
       "    </tr>\n",
       "  </tbody>\n",
       "</table>\n",
       "</div>"
      ],
      "text/plain": [
       "       user_id  click group            timestamp\n",
       "1540      1541      1   exp  2024-01-02 01:40:00\n",
       "9809      9810      1   exp  2024-01-07 19:29:00\n",
       "6193      6194      1   exp  2024-01-05 07:13:00\n",
       "16407    16408      1   con                  NaN\n",
       "12803    12804      0   con                  NaN"
      ]
     },
     "execution_count": 2,
     "metadata": {},
     "output_type": "execute_result"
    }
   ],
   "source": [
    "# load the dataset and examine the first five rows.\n",
    "rec_sys_df = pd.read_csv('./data/ab_test_click_data.csv')\n",
    "rec_sys_df.sample(5)"
   ]
  },
  {
   "cell_type": "markdown",
   "id": "ddb0365a",
   "metadata": {},
   "source": [
    "The dataset contains four variables:\n",
    "- user_id: unique identifier for all the users in the experiment.\n",
    "- click: a binary column having a 1 if a user clicked and 0 if otherwise.\n",
    "- group: contains the two groups of the experiment. `exp` for the experiment group and `con` for the control group.\n",
    "- timestamp: the time in which the click event happened.\n",
    "\n",
    "In the next cell is the peep into some basic information of about the dataset."
   ]
  },
  {
   "cell_type": "code",
   "execution_count": 3,
   "id": "d1660558",
   "metadata": {},
   "outputs": [
    {
     "name": "stdout",
     "output_type": "stream",
     "text": [
      "<class 'pandas.core.frame.DataFrame'>\n",
      "RangeIndex: 20000 entries, 0 to 19999\n",
      "Data columns (total 4 columns):\n",
      " #   Column     Non-Null Count  Dtype \n",
      "---  ------     --------------  ----- \n",
      " 0   user_id    20000 non-null  int64 \n",
      " 1   click      20000 non-null  int64 \n",
      " 2   group      20000 non-null  object\n",
      " 3   timestamp  10000 non-null  object\n",
      "dtypes: int64(2), object(2)\n",
      "memory usage: 625.1+ KB\n"
     ]
    }
   ],
   "source": [
    "# display the metadats of the dataset.\n",
    "rec_sys_df.info()"
   ]
  },
  {
   "cell_type": "markdown",
   "id": "147e3bb2",
   "metadata": {},
   "source": [
    "\n",
    "The dataset consists of $20k$ entries numbered from $0$ to $19,999$. The `user_id` and `click` are `int64` objects while `group` and `timestamp` are generic pandas string objects. \n",
    "\n",
    "While all other entries have full entries, timestamp is half-way. \n",
    "\n",
    "Finally, the total memory in use is about 625 kilobyte."
   ]
  },
  {
   "cell_type": "code",
   "execution_count": 4,
   "id": "c26c272f",
   "metadata": {},
   "outputs": [
    {
     "data": {
      "text/plain": [
       "np.int64(0)"
      ]
     },
     "execution_count": 4,
     "metadata": {},
     "output_type": "execute_result"
    }
   ],
   "source": [
    "# check for duplicates\n",
    "rec_sys_df.duplicated().sum()"
   ]
  },
  {
   "cell_type": "markdown",
   "id": "710e6a4c",
   "metadata": {},
   "source": [
    "There is no duplicated row! "
   ]
  },
  {
   "cell_type": "code",
   "execution_count": 5,
   "id": "11e7833a",
   "metadata": {},
   "outputs": [
    {
     "data": {
      "text/plain": [
       "user_id          0\n",
       "click            0\n",
       "group            0\n",
       "timestamp    10000\n",
       "dtype: int64"
      ]
     },
     "execution_count": 5,
     "metadata": {},
     "output_type": "execute_result"
    }
   ],
   "source": [
    "# check the rows for null entries.\n",
    "rec_sys_df.isna().sum()"
   ]
  },
  {
   "cell_type": "markdown",
   "id": "df3baa14",
   "metadata": {},
   "source": [
    "As was seen earlier, the `timestamp` has $10k$ null entries. Given the limited variables available for this experiment, the timestamp will be of no use for this test. "
   ]
  },
  {
   "cell_type": "code",
   "execution_count": 6,
   "id": "a4b57b1c",
   "metadata": {},
   "outputs": [
    {
     "data": {
      "text/html": [
       "<div>\n",
       "<style scoped>\n",
       "    .dataframe tbody tr th:only-of-type {\n",
       "        vertical-align: middle;\n",
       "    }\n",
       "\n",
       "    .dataframe tbody tr th {\n",
       "        vertical-align: top;\n",
       "    }\n",
       "\n",
       "    .dataframe thead th {\n",
       "        text-align: right;\n",
       "    }\n",
       "</style>\n",
       "<table border=\"1\" class=\"dataframe\">\n",
       "  <thead>\n",
       "    <tr style=\"text-align: right;\">\n",
       "      <th></th>\n",
       "      <th>user_id</th>\n",
       "      <th>click</th>\n",
       "    </tr>\n",
       "  </thead>\n",
       "  <tbody>\n",
       "    <tr>\n",
       "      <th>count</th>\n",
       "      <td>20000.000000</td>\n",
       "      <td>20000.000000</td>\n",
       "    </tr>\n",
       "    <tr>\n",
       "      <th>mean</th>\n",
       "      <td>10000.500000</td>\n",
       "      <td>0.405250</td>\n",
       "    </tr>\n",
       "    <tr>\n",
       "      <th>std</th>\n",
       "      <td>5773.647028</td>\n",
       "      <td>0.490953</td>\n",
       "    </tr>\n",
       "    <tr>\n",
       "      <th>min</th>\n",
       "      <td>1.000000</td>\n",
       "      <td>0.000000</td>\n",
       "    </tr>\n",
       "    <tr>\n",
       "      <th>25%</th>\n",
       "      <td>5000.750000</td>\n",
       "      <td>0.000000</td>\n",
       "    </tr>\n",
       "    <tr>\n",
       "      <th>50%</th>\n",
       "      <td>10000.500000</td>\n",
       "      <td>0.000000</td>\n",
       "    </tr>\n",
       "    <tr>\n",
       "      <th>75%</th>\n",
       "      <td>15000.250000</td>\n",
       "      <td>1.000000</td>\n",
       "    </tr>\n",
       "    <tr>\n",
       "      <th>max</th>\n",
       "      <td>20000.000000</td>\n",
       "      <td>1.000000</td>\n",
       "    </tr>\n",
       "  </tbody>\n",
       "</table>\n",
       "</div>"
      ],
      "text/plain": [
       "            user_id         click\n",
       "count  20000.000000  20000.000000\n",
       "mean   10000.500000      0.405250\n",
       "std     5773.647028      0.490953\n",
       "min        1.000000      0.000000\n",
       "25%     5000.750000      0.000000\n",
       "50%    10000.500000      0.000000\n",
       "75%    15000.250000      1.000000\n",
       "max    20000.000000      1.000000"
      ]
     },
     "execution_count": 6,
     "metadata": {},
     "output_type": "execute_result"
    }
   ],
   "source": [
    "# display some statistic summary of the numeric variables of the dataset.\n",
    "rec_sys_df.describe()"
   ]
  },
  {
   "cell_type": "markdown",
   "id": "b6bbf22a",
   "metadata": {},
   "source": [
    "The statistics of the `uder_id` make little sense in the part of interpretation. For the `click` variable, the average is $0.40525$.\n",
    "\n",
    "Although the statistics of the pandas' object dtypes are less common in practice, it could show some vital information."
   ]
  },
  {
   "cell_type": "code",
   "execution_count": 7,
   "id": "ceb2926a",
   "metadata": {},
   "outputs": [
    {
     "data": {
      "text/html": [
       "<div>\n",
       "<style scoped>\n",
       "    .dataframe tbody tr th:only-of-type {\n",
       "        vertical-align: middle;\n",
       "    }\n",
       "\n",
       "    .dataframe tbody tr th {\n",
       "        vertical-align: top;\n",
       "    }\n",
       "\n",
       "    .dataframe thead th {\n",
       "        text-align: right;\n",
       "    }\n",
       "</style>\n",
       "<table border=\"1\" class=\"dataframe\">\n",
       "  <thead>\n",
       "    <tr style=\"text-align: right;\">\n",
       "      <th></th>\n",
       "      <th>group</th>\n",
       "      <th>timestamp</th>\n",
       "    </tr>\n",
       "  </thead>\n",
       "  <tbody>\n",
       "    <tr>\n",
       "      <th>count</th>\n",
       "      <td>20000</td>\n",
       "      <td>10000</td>\n",
       "    </tr>\n",
       "    <tr>\n",
       "      <th>unique</th>\n",
       "      <td>2</td>\n",
       "      <td>10000</td>\n",
       "    </tr>\n",
       "    <tr>\n",
       "      <th>top</th>\n",
       "      <td>exp</td>\n",
       "      <td>2024-01-07 22:23:00</td>\n",
       "    </tr>\n",
       "    <tr>\n",
       "      <th>freq</th>\n",
       "      <td>10000</td>\n",
       "      <td>1</td>\n",
       "    </tr>\n",
       "  </tbody>\n",
       "</table>\n",
       "</div>"
      ],
      "text/plain": [
       "        group            timestamp\n",
       "count   20000                10000\n",
       "unique      2                10000\n",
       "top       exp  2024-01-07 22:23:00\n",
       "freq    10000                    1"
      ]
     },
     "execution_count": 7,
     "metadata": {},
     "output_type": "execute_result"
    }
   ],
   "source": [
    "# statistics of the object variables.\n",
    "rec_sys_df.describe(exclude='number')"
   ]
  },
  {
   "cell_type": "markdown",
   "id": "3bba423b",
   "metadata": {},
   "source": [
    "The important varaiable to look at here is `group`. The total count is $20k$ as we have seen before. There are $2$ unique entries: the experimental group and the control group. The output claims that the experimental group is the top occuring but looking at the frequeny, it is $10k$ which shows that the two groups are equally distributed.\n",
    "\n",
    "In the following cell, there is a deep dive into the distribution of the each of the variable to understand how data is distributed within them. Even though the variables of interest are categorical and mostly binary, the outcome is already trivial but it is better to confirm than assume.\n",
    "\n",
    "> `varable_count()` was intended to be used only for this experiment. if there is need to use it elsewhere, there has to be some modification in which the total number of observations per group would have to be detected or passed as an argument to be used in the first block of code instead of hard-coding it. the hard-code is easier here since each group has the same number of observations."
   ]
  },
  {
   "cell_type": "code",
   "execution_count": 8,
   "id": "6cb67012",
   "metadata": {},
   "outputs": [
    {
     "data": {
      "text/html": [
       "<div>\n",
       "<style scoped>\n",
       "    .dataframe tbody tr th:only-of-type {\n",
       "        vertical-align: middle;\n",
       "    }\n",
       "\n",
       "    .dataframe tbody tr th {\n",
       "        vertical-align: top;\n",
       "    }\n",
       "\n",
       "    .dataframe thead th {\n",
       "        text-align: right;\n",
       "    }\n",
       "</style>\n",
       "<table border=\"1\" class=\"dataframe\">\n",
       "  <thead>\n",
       "    <tr style=\"text-align: right;\">\n",
       "      <th></th>\n",
       "      <th>click</th>\n",
       "      <th>count</th>\n",
       "      <th>percentage</th>\n",
       "      <th>label</th>\n",
       "    </tr>\n",
       "  </thead>\n",
       "  <tbody>\n",
       "    <tr>\n",
       "      <th>0</th>\n",
       "      <td>0</td>\n",
       "      <td>11895</td>\n",
       "      <td>59.475</td>\n",
       "      <td>59.48%</td>\n",
       "    </tr>\n",
       "    <tr>\n",
       "      <th>1</th>\n",
       "      <td>1</td>\n",
       "      <td>8105</td>\n",
       "      <td>40.525</td>\n",
       "      <td>40.52%</td>\n",
       "    </tr>\n",
       "  </tbody>\n",
       "</table>\n",
       "</div>"
      ],
      "text/plain": [
       "   click  count  percentage   label\n",
       "0      0  11895      59.475  59.48%\n",
       "1      1   8105      40.525  40.52%"
      ]
     },
     "execution_count": 8,
     "metadata": {},
     "output_type": "execute_result"
    }
   ],
   "source": [
    "# define a functon to count the unique entries of any column. call on the function to display the count of the click column\n",
    "def variable_count(df, group_col:str, filter_col:str=None):\n",
    "\n",
    "    '''variable count counts the total occurrence of the unique values in a column with the corresponding\n",
    "    percentages.\n",
    "\n",
    "    Arguments:\n",
    "    ===============================\n",
    "    df: a datarame object. \n",
    "    col: a string object. the name of the column of interest.\n",
    "\n",
    "    Return:\n",
    "    ===============================\n",
    "    returns a datafram object.\n",
    "    '''\n",
    "    if filter_col:\n",
    "        distribution_count = df.groupby(group_col)[filter_col].value_counts().reset_index()\n",
    "        distribution_count['percentage'] = distribution_count['count'] / 10000 * 100\n",
    "        distribution_count['label'] = distribution_count['percentage'].round(2).astype(str) + '%'\n",
    "        distribution_count['click'] = distribution_count['click'].astype(str)\n",
    "        return distribution_count\n",
    "    click_variable_count = df[group_col].value_counts().reset_index()\n",
    "    click_variable_count['percentage'] = click_variable_count['count'] / df.shape[0] * 100\n",
    "    click_variable_count['label'] = click_variable_count['percentage'].round(2).astype(str) + '%'\n",
    "    return click_variable_count\n",
    "\n",
    "click_variable_count = variable_count(rec_sys_df, group_col='click')\n",
    "click_variable_count"
   ]
  },
  {
   "cell_type": "markdown",
   "id": "6e9dd1db",
   "metadata": {},
   "source": [
    "The entries of the click variables were counted. It happened that the experiment recorded more of 'no click' than 'click' with 'no click' making $59.47\\%$ while 'click' makes the remaining $40.52\\%$. \n",
    "\n",
    "In the next cell, the above outcome is visualized in a bar chart."
   ]
  },
  {
   "cell_type": "code",
   "execution_count": 9,
   "id": "af09d769",
   "metadata": {},
   "outputs": [
    {
     "data": {
      "application/vnd.plotly.v1+json": {
       "config": {
        "plotlyServerURL": "https://plot.ly"
       },
       "data": [
        {
         "hovertemplate": "click=%{marker.color}<br>count=%{y}<br>label=%{text}<extra></extra>",
         "legendgroup": "",
         "marker": {
          "color": {
           "bdata": "AAE=",
           "dtype": "i1"
          },
          "coloraxis": "coloraxis",
          "pattern": {
           "shape": ""
          }
         },
         "name": "",
         "orientation": "v",
         "showlegend": false,
         "text": [
          "59.48%",
          "40.52%"
         ],
         "textposition": "auto",
         "type": "bar",
         "x": {
          "bdata": "AAE=",
          "dtype": "i1"
         },
         "xaxis": "x",
         "y": {
          "bdata": "dy6pHw==",
          "dtype": "i2"
         },
         "yaxis": "y"
        }
       ],
       "layout": {
        "barmode": "relative",
        "coloraxis": {
         "colorbar": {
          "title": {
           "text": "click"
          }
         },
         "colorscale": [
          [
           0,
           "#0d0887"
          ],
          [
           0.1111111111111111,
           "#46039f"
          ],
          [
           0.2222222222222222,
           "#7201a8"
          ],
          [
           0.3333333333333333,
           "#9c179e"
          ],
          [
           0.4444444444444444,
           "#bd3786"
          ],
          [
           0.5555555555555556,
           "#d8576b"
          ],
          [
           0.6666666666666666,
           "#ed7953"
          ],
          [
           0.7777777777777778,
           "#fb9f3a"
          ],
          [
           0.8888888888888888,
           "#fdca26"
          ],
          [
           1,
           "#f0f921"
          ]
         ]
        },
        "legend": {
         "tracegroupgap": 0
        },
        "template": {
         "data": {
          "bar": [
           {
            "error_x": {
             "color": "#2a3f5f"
            },
            "error_y": {
             "color": "#2a3f5f"
            },
            "marker": {
             "line": {
              "color": "#E5ECF6",
              "width": 0.5
             },
             "pattern": {
              "fillmode": "overlay",
              "size": 10,
              "solidity": 0.2
             }
            },
            "type": "bar"
           }
          ],
          "barpolar": [
           {
            "marker": {
             "line": {
              "color": "#E5ECF6",
              "width": 0.5
             },
             "pattern": {
              "fillmode": "overlay",
              "size": 10,
              "solidity": 0.2
             }
            },
            "type": "barpolar"
           }
          ],
          "carpet": [
           {
            "aaxis": {
             "endlinecolor": "#2a3f5f",
             "gridcolor": "white",
             "linecolor": "white",
             "minorgridcolor": "white",
             "startlinecolor": "#2a3f5f"
            },
            "baxis": {
             "endlinecolor": "#2a3f5f",
             "gridcolor": "white",
             "linecolor": "white",
             "minorgridcolor": "white",
             "startlinecolor": "#2a3f5f"
            },
            "type": "carpet"
           }
          ],
          "choropleth": [
           {
            "colorbar": {
             "outlinewidth": 0,
             "ticks": ""
            },
            "type": "choropleth"
           }
          ],
          "contour": [
           {
            "colorbar": {
             "outlinewidth": 0,
             "ticks": ""
            },
            "colorscale": [
             [
              0,
              "#0d0887"
             ],
             [
              0.1111111111111111,
              "#46039f"
             ],
             [
              0.2222222222222222,
              "#7201a8"
             ],
             [
              0.3333333333333333,
              "#9c179e"
             ],
             [
              0.4444444444444444,
              "#bd3786"
             ],
             [
              0.5555555555555556,
              "#d8576b"
             ],
             [
              0.6666666666666666,
              "#ed7953"
             ],
             [
              0.7777777777777778,
              "#fb9f3a"
             ],
             [
              0.8888888888888888,
              "#fdca26"
             ],
             [
              1,
              "#f0f921"
             ]
            ],
            "type": "contour"
           }
          ],
          "contourcarpet": [
           {
            "colorbar": {
             "outlinewidth": 0,
             "ticks": ""
            },
            "type": "contourcarpet"
           }
          ],
          "heatmap": [
           {
            "colorbar": {
             "outlinewidth": 0,
             "ticks": ""
            },
            "colorscale": [
             [
              0,
              "#0d0887"
             ],
             [
              0.1111111111111111,
              "#46039f"
             ],
             [
              0.2222222222222222,
              "#7201a8"
             ],
             [
              0.3333333333333333,
              "#9c179e"
             ],
             [
              0.4444444444444444,
              "#bd3786"
             ],
             [
              0.5555555555555556,
              "#d8576b"
             ],
             [
              0.6666666666666666,
              "#ed7953"
             ],
             [
              0.7777777777777778,
              "#fb9f3a"
             ],
             [
              0.8888888888888888,
              "#fdca26"
             ],
             [
              1,
              "#f0f921"
             ]
            ],
            "type": "heatmap"
           }
          ],
          "histogram": [
           {
            "marker": {
             "pattern": {
              "fillmode": "overlay",
              "size": 10,
              "solidity": 0.2
             }
            },
            "type": "histogram"
           }
          ],
          "histogram2d": [
           {
            "colorbar": {
             "outlinewidth": 0,
             "ticks": ""
            },
            "colorscale": [
             [
              0,
              "#0d0887"
             ],
             [
              0.1111111111111111,
              "#46039f"
             ],
             [
              0.2222222222222222,
              "#7201a8"
             ],
             [
              0.3333333333333333,
              "#9c179e"
             ],
             [
              0.4444444444444444,
              "#bd3786"
             ],
             [
              0.5555555555555556,
              "#d8576b"
             ],
             [
              0.6666666666666666,
              "#ed7953"
             ],
             [
              0.7777777777777778,
              "#fb9f3a"
             ],
             [
              0.8888888888888888,
              "#fdca26"
             ],
             [
              1,
              "#f0f921"
             ]
            ],
            "type": "histogram2d"
           }
          ],
          "histogram2dcontour": [
           {
            "colorbar": {
             "outlinewidth": 0,
             "ticks": ""
            },
            "colorscale": [
             [
              0,
              "#0d0887"
             ],
             [
              0.1111111111111111,
              "#46039f"
             ],
             [
              0.2222222222222222,
              "#7201a8"
             ],
             [
              0.3333333333333333,
              "#9c179e"
             ],
             [
              0.4444444444444444,
              "#bd3786"
             ],
             [
              0.5555555555555556,
              "#d8576b"
             ],
             [
              0.6666666666666666,
              "#ed7953"
             ],
             [
              0.7777777777777778,
              "#fb9f3a"
             ],
             [
              0.8888888888888888,
              "#fdca26"
             ],
             [
              1,
              "#f0f921"
             ]
            ],
            "type": "histogram2dcontour"
           }
          ],
          "mesh3d": [
           {
            "colorbar": {
             "outlinewidth": 0,
             "ticks": ""
            },
            "type": "mesh3d"
           }
          ],
          "parcoords": [
           {
            "line": {
             "colorbar": {
              "outlinewidth": 0,
              "ticks": ""
             }
            },
            "type": "parcoords"
           }
          ],
          "pie": [
           {
            "automargin": true,
            "type": "pie"
           }
          ],
          "scatter": [
           {
            "fillpattern": {
             "fillmode": "overlay",
             "size": 10,
             "solidity": 0.2
            },
            "type": "scatter"
           }
          ],
          "scatter3d": [
           {
            "line": {
             "colorbar": {
              "outlinewidth": 0,
              "ticks": ""
             }
            },
            "marker": {
             "colorbar": {
              "outlinewidth": 0,
              "ticks": ""
             }
            },
            "type": "scatter3d"
           }
          ],
          "scattercarpet": [
           {
            "marker": {
             "colorbar": {
              "outlinewidth": 0,
              "ticks": ""
             }
            },
            "type": "scattercarpet"
           }
          ],
          "scattergeo": [
           {
            "marker": {
             "colorbar": {
              "outlinewidth": 0,
              "ticks": ""
             }
            },
            "type": "scattergeo"
           }
          ],
          "scattergl": [
           {
            "marker": {
             "colorbar": {
              "outlinewidth": 0,
              "ticks": ""
             }
            },
            "type": "scattergl"
           }
          ],
          "scattermap": [
           {
            "marker": {
             "colorbar": {
              "outlinewidth": 0,
              "ticks": ""
             }
            },
            "type": "scattermap"
           }
          ],
          "scattermapbox": [
           {
            "marker": {
             "colorbar": {
              "outlinewidth": 0,
              "ticks": ""
             }
            },
            "type": "scattermapbox"
           }
          ],
          "scatterpolar": [
           {
            "marker": {
             "colorbar": {
              "outlinewidth": 0,
              "ticks": ""
             }
            },
            "type": "scatterpolar"
           }
          ],
          "scatterpolargl": [
           {
            "marker": {
             "colorbar": {
              "outlinewidth": 0,
              "ticks": ""
             }
            },
            "type": "scatterpolargl"
           }
          ],
          "scatterternary": [
           {
            "marker": {
             "colorbar": {
              "outlinewidth": 0,
              "ticks": ""
             }
            },
            "type": "scatterternary"
           }
          ],
          "surface": [
           {
            "colorbar": {
             "outlinewidth": 0,
             "ticks": ""
            },
            "colorscale": [
             [
              0,
              "#0d0887"
             ],
             [
              0.1111111111111111,
              "#46039f"
             ],
             [
              0.2222222222222222,
              "#7201a8"
             ],
             [
              0.3333333333333333,
              "#9c179e"
             ],
             [
              0.4444444444444444,
              "#bd3786"
             ],
             [
              0.5555555555555556,
              "#d8576b"
             ],
             [
              0.6666666666666666,
              "#ed7953"
             ],
             [
              0.7777777777777778,
              "#fb9f3a"
             ],
             [
              0.8888888888888888,
              "#fdca26"
             ],
             [
              1,
              "#f0f921"
             ]
            ],
            "type": "surface"
           }
          ],
          "table": [
           {
            "cells": {
             "fill": {
              "color": "#EBF0F8"
             },
             "line": {
              "color": "white"
             }
            },
            "header": {
             "fill": {
              "color": "#C8D4E3"
             },
             "line": {
              "color": "white"
             }
            },
            "type": "table"
           }
          ]
         },
         "layout": {
          "annotationdefaults": {
           "arrowcolor": "#2a3f5f",
           "arrowhead": 0,
           "arrowwidth": 1
          },
          "autotypenumbers": "strict",
          "coloraxis": {
           "colorbar": {
            "outlinewidth": 0,
            "ticks": ""
           }
          },
          "colorscale": {
           "diverging": [
            [
             0,
             "#8e0152"
            ],
            [
             0.1,
             "#c51b7d"
            ],
            [
             0.2,
             "#de77ae"
            ],
            [
             0.3,
             "#f1b6da"
            ],
            [
             0.4,
             "#fde0ef"
            ],
            [
             0.5,
             "#f7f7f7"
            ],
            [
             0.6,
             "#e6f5d0"
            ],
            [
             0.7,
             "#b8e186"
            ],
            [
             0.8,
             "#7fbc41"
            ],
            [
             0.9,
             "#4d9221"
            ],
            [
             1,
             "#276419"
            ]
           ],
           "sequential": [
            [
             0,
             "#0d0887"
            ],
            [
             0.1111111111111111,
             "#46039f"
            ],
            [
             0.2222222222222222,
             "#7201a8"
            ],
            [
             0.3333333333333333,
             "#9c179e"
            ],
            [
             0.4444444444444444,
             "#bd3786"
            ],
            [
             0.5555555555555556,
             "#d8576b"
            ],
            [
             0.6666666666666666,
             "#ed7953"
            ],
            [
             0.7777777777777778,
             "#fb9f3a"
            ],
            [
             0.8888888888888888,
             "#fdca26"
            ],
            [
             1,
             "#f0f921"
            ]
           ],
           "sequentialminus": [
            [
             0,
             "#0d0887"
            ],
            [
             0.1111111111111111,
             "#46039f"
            ],
            [
             0.2222222222222222,
             "#7201a8"
            ],
            [
             0.3333333333333333,
             "#9c179e"
            ],
            [
             0.4444444444444444,
             "#bd3786"
            ],
            [
             0.5555555555555556,
             "#d8576b"
            ],
            [
             0.6666666666666666,
             "#ed7953"
            ],
            [
             0.7777777777777778,
             "#fb9f3a"
            ],
            [
             0.8888888888888888,
             "#fdca26"
            ],
            [
             1,
             "#f0f921"
            ]
           ]
          },
          "colorway": [
           "#636efa",
           "#EF553B",
           "#00cc96",
           "#ab63fa",
           "#FFA15A",
           "#19d3f3",
           "#FF6692",
           "#B6E880",
           "#FF97FF",
           "#FECB52"
          ],
          "font": {
           "color": "#2a3f5f"
          },
          "geo": {
           "bgcolor": "white",
           "lakecolor": "white",
           "landcolor": "#E5ECF6",
           "showlakes": true,
           "showland": true,
           "subunitcolor": "white"
          },
          "hoverlabel": {
           "align": "left"
          },
          "hovermode": "closest",
          "mapbox": {
           "style": "light"
          },
          "paper_bgcolor": "white",
          "plot_bgcolor": "#E5ECF6",
          "polar": {
           "angularaxis": {
            "gridcolor": "white",
            "linecolor": "white",
            "ticks": ""
           },
           "bgcolor": "#E5ECF6",
           "radialaxis": {
            "gridcolor": "white",
            "linecolor": "white",
            "ticks": ""
           }
          },
          "scene": {
           "xaxis": {
            "backgroundcolor": "#E5ECF6",
            "gridcolor": "white",
            "gridwidth": 2,
            "linecolor": "white",
            "showbackground": true,
            "ticks": "",
            "zerolinecolor": "white"
           },
           "yaxis": {
            "backgroundcolor": "#E5ECF6",
            "gridcolor": "white",
            "gridwidth": 2,
            "linecolor": "white",
            "showbackground": true,
            "ticks": "",
            "zerolinecolor": "white"
           },
           "zaxis": {
            "backgroundcolor": "#E5ECF6",
            "gridcolor": "white",
            "gridwidth": 2,
            "linecolor": "white",
            "showbackground": true,
            "ticks": "",
            "zerolinecolor": "white"
           }
          },
          "shapedefaults": {
           "line": {
            "color": "#2a3f5f"
           }
          },
          "ternary": {
           "aaxis": {
            "gridcolor": "white",
            "linecolor": "white",
            "ticks": ""
           },
           "baxis": {
            "gridcolor": "white",
            "linecolor": "white",
            "ticks": ""
           },
           "bgcolor": "#E5ECF6",
           "caxis": {
            "gridcolor": "white",
            "linecolor": "white",
            "ticks": ""
           }
          },
          "title": {
           "x": 0.05
          },
          "xaxis": {
           "automargin": true,
           "gridcolor": "white",
           "linecolor": "white",
           "ticks": "",
           "title": {
            "standoff": 15
           },
           "zerolinecolor": "white",
           "zerolinewidth": 2
          },
          "yaxis": {
           "automargin": true,
           "gridcolor": "white",
           "linecolor": "white",
           "ticks": "",
           "title": {
            "standoff": 15
           },
           "zerolinecolor": "white",
           "zerolinewidth": 2
          }
         }
        },
        "title": {
         "text": "Click Distribution Across The Experimental and Control Groups"
        },
        "xaxis": {
         "anchor": "y",
         "domain": [
          0,
          1
         ],
         "title": {
          "text": "click"
         }
        },
        "yaxis": {
         "anchor": "x",
         "domain": [
          0,
          1
         ],
         "title": {
          "text": "count"
         }
        }
       }
      }
     },
     "metadata": {},
     "output_type": "display_data"
    }
   ],
   "source": [
    "# plot the click count \n",
    "fig = px.bar(\n",
    "    click_variable_count, \n",
    "    x='click', \n",
    "    y='count', \n",
    "    color='click', \n",
    "    text='label',\n",
    "    title='Click Distribution Across The Experimental and Control Groups',\n",
    "    color_discrete_sequence=color_palette \n",
    "    )\n",
    "fig"
   ]
  },
  {
   "cell_type": "markdown",
   "id": "f1584605",
   "metadata": {},
   "source": [
    "As was seen earlier, the `group` variable is divided into: 'experiment' and 'control'. In the cell that follows, the distribution is examined."
   ]
  },
  {
   "cell_type": "code",
   "execution_count": 10,
   "id": "7e4fbc4a",
   "metadata": {},
   "outputs": [
    {
     "data": {
      "text/html": [
       "<div>\n",
       "<style scoped>\n",
       "    .dataframe tbody tr th:only-of-type {\n",
       "        vertical-align: middle;\n",
       "    }\n",
       "\n",
       "    .dataframe tbody tr th {\n",
       "        vertical-align: top;\n",
       "    }\n",
       "\n",
       "    .dataframe thead th {\n",
       "        text-align: right;\n",
       "    }\n",
       "</style>\n",
       "<table border=\"1\" class=\"dataframe\">\n",
       "  <thead>\n",
       "    <tr style=\"text-align: right;\">\n",
       "      <th></th>\n",
       "      <th>group</th>\n",
       "      <th>count</th>\n",
       "      <th>percentage</th>\n",
       "      <th>label</th>\n",
       "    </tr>\n",
       "  </thead>\n",
       "  <tbody>\n",
       "    <tr>\n",
       "      <th>0</th>\n",
       "      <td>exp</td>\n",
       "      <td>10000</td>\n",
       "      <td>50.0</td>\n",
       "      <td>50.0%</td>\n",
       "    </tr>\n",
       "    <tr>\n",
       "      <th>1</th>\n",
       "      <td>con</td>\n",
       "      <td>10000</td>\n",
       "      <td>50.0</td>\n",
       "      <td>50.0%</td>\n",
       "    </tr>\n",
       "  </tbody>\n",
       "</table>\n",
       "</div>"
      ],
      "text/plain": [
       "  group  count  percentage  label\n",
       "0   exp  10000        50.0  50.0%\n",
       "1   con  10000        50.0  50.0%"
      ]
     },
     "execution_count": 10,
     "metadata": {},
     "output_type": "execute_result"
    }
   ],
   "source": [
    "# call avriable_count funtion to count the entries in group. \n",
    "group_count = variable_count(rec_sys_df, 'group')\n",
    "group_count"
   ]
  },
  {
   "cell_type": "markdown",
   "id": "0657f2aa",
   "metadata": {},
   "source": [
    "From the table above, the two groups are equally distributed among the users since each make up $50\\%$ of the experiment. The Group Distribution Plot below visualizes the above table."
   ]
  },
  {
   "cell_type": "code",
   "execution_count": 11,
   "id": "36990368",
   "metadata": {},
   "outputs": [
    {
     "data": {
      "application/vnd.plotly.v1+json": {
       "config": {
        "plotlyServerURL": "https://plot.ly"
       },
       "data": [
        {
         "hovertemplate": "group=%{x}<br>count=%{y}<br>label=%{text}<extra></extra>",
         "legendgroup": "exp",
         "marker": {
          "color": "#636efa",
          "pattern": {
           "shape": ""
          }
         },
         "name": "exp",
         "orientation": "v",
         "showlegend": true,
         "text": [
          "50.0%"
         ],
         "textposition": "auto",
         "type": "bar",
         "x": [
          "exp"
         ],
         "xaxis": "x",
         "y": {
          "bdata": "ECc=",
          "dtype": "i2"
         },
         "yaxis": "y"
        },
        {
         "hovertemplate": "group=%{x}<br>count=%{y}<br>label=%{text}<extra></extra>",
         "legendgroup": "con",
         "marker": {
          "color": "#EF553B",
          "pattern": {
           "shape": ""
          }
         },
         "name": "con",
         "orientation": "v",
         "showlegend": true,
         "text": [
          "50.0%"
         ],
         "textposition": "auto",
         "type": "bar",
         "x": [
          "con"
         ],
         "xaxis": "x",
         "y": {
          "bdata": "ECc=",
          "dtype": "i2"
         },
         "yaxis": "y"
        }
       ],
       "layout": {
        "barmode": "relative",
        "legend": {
         "title": {
          "text": "group"
         },
         "tracegroupgap": 0
        },
        "template": {
         "data": {
          "bar": [
           {
            "error_x": {
             "color": "#2a3f5f"
            },
            "error_y": {
             "color": "#2a3f5f"
            },
            "marker": {
             "line": {
              "color": "#E5ECF6",
              "width": 0.5
             },
             "pattern": {
              "fillmode": "overlay",
              "size": 10,
              "solidity": 0.2
             }
            },
            "type": "bar"
           }
          ],
          "barpolar": [
           {
            "marker": {
             "line": {
              "color": "#E5ECF6",
              "width": 0.5
             },
             "pattern": {
              "fillmode": "overlay",
              "size": 10,
              "solidity": 0.2
             }
            },
            "type": "barpolar"
           }
          ],
          "carpet": [
           {
            "aaxis": {
             "endlinecolor": "#2a3f5f",
             "gridcolor": "white",
             "linecolor": "white",
             "minorgridcolor": "white",
             "startlinecolor": "#2a3f5f"
            },
            "baxis": {
             "endlinecolor": "#2a3f5f",
             "gridcolor": "white",
             "linecolor": "white",
             "minorgridcolor": "white",
             "startlinecolor": "#2a3f5f"
            },
            "type": "carpet"
           }
          ],
          "choropleth": [
           {
            "colorbar": {
             "outlinewidth": 0,
             "ticks": ""
            },
            "type": "choropleth"
           }
          ],
          "contour": [
           {
            "colorbar": {
             "outlinewidth": 0,
             "ticks": ""
            },
            "colorscale": [
             [
              0,
              "#0d0887"
             ],
             [
              0.1111111111111111,
              "#46039f"
             ],
             [
              0.2222222222222222,
              "#7201a8"
             ],
             [
              0.3333333333333333,
              "#9c179e"
             ],
             [
              0.4444444444444444,
              "#bd3786"
             ],
             [
              0.5555555555555556,
              "#d8576b"
             ],
             [
              0.6666666666666666,
              "#ed7953"
             ],
             [
              0.7777777777777778,
              "#fb9f3a"
             ],
             [
              0.8888888888888888,
              "#fdca26"
             ],
             [
              1,
              "#f0f921"
             ]
            ],
            "type": "contour"
           }
          ],
          "contourcarpet": [
           {
            "colorbar": {
             "outlinewidth": 0,
             "ticks": ""
            },
            "type": "contourcarpet"
           }
          ],
          "heatmap": [
           {
            "colorbar": {
             "outlinewidth": 0,
             "ticks": ""
            },
            "colorscale": [
             [
              0,
              "#0d0887"
             ],
             [
              0.1111111111111111,
              "#46039f"
             ],
             [
              0.2222222222222222,
              "#7201a8"
             ],
             [
              0.3333333333333333,
              "#9c179e"
             ],
             [
              0.4444444444444444,
              "#bd3786"
             ],
             [
              0.5555555555555556,
              "#d8576b"
             ],
             [
              0.6666666666666666,
              "#ed7953"
             ],
             [
              0.7777777777777778,
              "#fb9f3a"
             ],
             [
              0.8888888888888888,
              "#fdca26"
             ],
             [
              1,
              "#f0f921"
             ]
            ],
            "type": "heatmap"
           }
          ],
          "histogram": [
           {
            "marker": {
             "pattern": {
              "fillmode": "overlay",
              "size": 10,
              "solidity": 0.2
             }
            },
            "type": "histogram"
           }
          ],
          "histogram2d": [
           {
            "colorbar": {
             "outlinewidth": 0,
             "ticks": ""
            },
            "colorscale": [
             [
              0,
              "#0d0887"
             ],
             [
              0.1111111111111111,
              "#46039f"
             ],
             [
              0.2222222222222222,
              "#7201a8"
             ],
             [
              0.3333333333333333,
              "#9c179e"
             ],
             [
              0.4444444444444444,
              "#bd3786"
             ],
             [
              0.5555555555555556,
              "#d8576b"
             ],
             [
              0.6666666666666666,
              "#ed7953"
             ],
             [
              0.7777777777777778,
              "#fb9f3a"
             ],
             [
              0.8888888888888888,
              "#fdca26"
             ],
             [
              1,
              "#f0f921"
             ]
            ],
            "type": "histogram2d"
           }
          ],
          "histogram2dcontour": [
           {
            "colorbar": {
             "outlinewidth": 0,
             "ticks": ""
            },
            "colorscale": [
             [
              0,
              "#0d0887"
             ],
             [
              0.1111111111111111,
              "#46039f"
             ],
             [
              0.2222222222222222,
              "#7201a8"
             ],
             [
              0.3333333333333333,
              "#9c179e"
             ],
             [
              0.4444444444444444,
              "#bd3786"
             ],
             [
              0.5555555555555556,
              "#d8576b"
             ],
             [
              0.6666666666666666,
              "#ed7953"
             ],
             [
              0.7777777777777778,
              "#fb9f3a"
             ],
             [
              0.8888888888888888,
              "#fdca26"
             ],
             [
              1,
              "#f0f921"
             ]
            ],
            "type": "histogram2dcontour"
           }
          ],
          "mesh3d": [
           {
            "colorbar": {
             "outlinewidth": 0,
             "ticks": ""
            },
            "type": "mesh3d"
           }
          ],
          "parcoords": [
           {
            "line": {
             "colorbar": {
              "outlinewidth": 0,
              "ticks": ""
             }
            },
            "type": "parcoords"
           }
          ],
          "pie": [
           {
            "automargin": true,
            "type": "pie"
           }
          ],
          "scatter": [
           {
            "fillpattern": {
             "fillmode": "overlay",
             "size": 10,
             "solidity": 0.2
            },
            "type": "scatter"
           }
          ],
          "scatter3d": [
           {
            "line": {
             "colorbar": {
              "outlinewidth": 0,
              "ticks": ""
             }
            },
            "marker": {
             "colorbar": {
              "outlinewidth": 0,
              "ticks": ""
             }
            },
            "type": "scatter3d"
           }
          ],
          "scattercarpet": [
           {
            "marker": {
             "colorbar": {
              "outlinewidth": 0,
              "ticks": ""
             }
            },
            "type": "scattercarpet"
           }
          ],
          "scattergeo": [
           {
            "marker": {
             "colorbar": {
              "outlinewidth": 0,
              "ticks": ""
             }
            },
            "type": "scattergeo"
           }
          ],
          "scattergl": [
           {
            "marker": {
             "colorbar": {
              "outlinewidth": 0,
              "ticks": ""
             }
            },
            "type": "scattergl"
           }
          ],
          "scattermap": [
           {
            "marker": {
             "colorbar": {
              "outlinewidth": 0,
              "ticks": ""
             }
            },
            "type": "scattermap"
           }
          ],
          "scattermapbox": [
           {
            "marker": {
             "colorbar": {
              "outlinewidth": 0,
              "ticks": ""
             }
            },
            "type": "scattermapbox"
           }
          ],
          "scatterpolar": [
           {
            "marker": {
             "colorbar": {
              "outlinewidth": 0,
              "ticks": ""
             }
            },
            "type": "scatterpolar"
           }
          ],
          "scatterpolargl": [
           {
            "marker": {
             "colorbar": {
              "outlinewidth": 0,
              "ticks": ""
             }
            },
            "type": "scatterpolargl"
           }
          ],
          "scatterternary": [
           {
            "marker": {
             "colorbar": {
              "outlinewidth": 0,
              "ticks": ""
             }
            },
            "type": "scatterternary"
           }
          ],
          "surface": [
           {
            "colorbar": {
             "outlinewidth": 0,
             "ticks": ""
            },
            "colorscale": [
             [
              0,
              "#0d0887"
             ],
             [
              0.1111111111111111,
              "#46039f"
             ],
             [
              0.2222222222222222,
              "#7201a8"
             ],
             [
              0.3333333333333333,
              "#9c179e"
             ],
             [
              0.4444444444444444,
              "#bd3786"
             ],
             [
              0.5555555555555556,
              "#d8576b"
             ],
             [
              0.6666666666666666,
              "#ed7953"
             ],
             [
              0.7777777777777778,
              "#fb9f3a"
             ],
             [
              0.8888888888888888,
              "#fdca26"
             ],
             [
              1,
              "#f0f921"
             ]
            ],
            "type": "surface"
           }
          ],
          "table": [
           {
            "cells": {
             "fill": {
              "color": "#EBF0F8"
             },
             "line": {
              "color": "white"
             }
            },
            "header": {
             "fill": {
              "color": "#C8D4E3"
             },
             "line": {
              "color": "white"
             }
            },
            "type": "table"
           }
          ]
         },
         "layout": {
          "annotationdefaults": {
           "arrowcolor": "#2a3f5f",
           "arrowhead": 0,
           "arrowwidth": 1
          },
          "autotypenumbers": "strict",
          "coloraxis": {
           "colorbar": {
            "outlinewidth": 0,
            "ticks": ""
           }
          },
          "colorscale": {
           "diverging": [
            [
             0,
             "#8e0152"
            ],
            [
             0.1,
             "#c51b7d"
            ],
            [
             0.2,
             "#de77ae"
            ],
            [
             0.3,
             "#f1b6da"
            ],
            [
             0.4,
             "#fde0ef"
            ],
            [
             0.5,
             "#f7f7f7"
            ],
            [
             0.6,
             "#e6f5d0"
            ],
            [
             0.7,
             "#b8e186"
            ],
            [
             0.8,
             "#7fbc41"
            ],
            [
             0.9,
             "#4d9221"
            ],
            [
             1,
             "#276419"
            ]
           ],
           "sequential": [
            [
             0,
             "#0d0887"
            ],
            [
             0.1111111111111111,
             "#46039f"
            ],
            [
             0.2222222222222222,
             "#7201a8"
            ],
            [
             0.3333333333333333,
             "#9c179e"
            ],
            [
             0.4444444444444444,
             "#bd3786"
            ],
            [
             0.5555555555555556,
             "#d8576b"
            ],
            [
             0.6666666666666666,
             "#ed7953"
            ],
            [
             0.7777777777777778,
             "#fb9f3a"
            ],
            [
             0.8888888888888888,
             "#fdca26"
            ],
            [
             1,
             "#f0f921"
            ]
           ],
           "sequentialminus": [
            [
             0,
             "#0d0887"
            ],
            [
             0.1111111111111111,
             "#46039f"
            ],
            [
             0.2222222222222222,
             "#7201a8"
            ],
            [
             0.3333333333333333,
             "#9c179e"
            ],
            [
             0.4444444444444444,
             "#bd3786"
            ],
            [
             0.5555555555555556,
             "#d8576b"
            ],
            [
             0.6666666666666666,
             "#ed7953"
            ],
            [
             0.7777777777777778,
             "#fb9f3a"
            ],
            [
             0.8888888888888888,
             "#fdca26"
            ],
            [
             1,
             "#f0f921"
            ]
           ]
          },
          "colorway": [
           "#636efa",
           "#EF553B",
           "#00cc96",
           "#ab63fa",
           "#FFA15A",
           "#19d3f3",
           "#FF6692",
           "#B6E880",
           "#FF97FF",
           "#FECB52"
          ],
          "font": {
           "color": "#2a3f5f"
          },
          "geo": {
           "bgcolor": "white",
           "lakecolor": "white",
           "landcolor": "#E5ECF6",
           "showlakes": true,
           "showland": true,
           "subunitcolor": "white"
          },
          "hoverlabel": {
           "align": "left"
          },
          "hovermode": "closest",
          "mapbox": {
           "style": "light"
          },
          "paper_bgcolor": "white",
          "plot_bgcolor": "#E5ECF6",
          "polar": {
           "angularaxis": {
            "gridcolor": "white",
            "linecolor": "white",
            "ticks": ""
           },
           "bgcolor": "#E5ECF6",
           "radialaxis": {
            "gridcolor": "white",
            "linecolor": "white",
            "ticks": ""
           }
          },
          "scene": {
           "xaxis": {
            "backgroundcolor": "#E5ECF6",
            "gridcolor": "white",
            "gridwidth": 2,
            "linecolor": "white",
            "showbackground": true,
            "ticks": "",
            "zerolinecolor": "white"
           },
           "yaxis": {
            "backgroundcolor": "#E5ECF6",
            "gridcolor": "white",
            "gridwidth": 2,
            "linecolor": "white",
            "showbackground": true,
            "ticks": "",
            "zerolinecolor": "white"
           },
           "zaxis": {
            "backgroundcolor": "#E5ECF6",
            "gridcolor": "white",
            "gridwidth": 2,
            "linecolor": "white",
            "showbackground": true,
            "ticks": "",
            "zerolinecolor": "white"
           }
          },
          "shapedefaults": {
           "line": {
            "color": "#2a3f5f"
           }
          },
          "ternary": {
           "aaxis": {
            "gridcolor": "white",
            "linecolor": "white",
            "ticks": ""
           },
           "baxis": {
            "gridcolor": "white",
            "linecolor": "white",
            "ticks": ""
           },
           "bgcolor": "#E5ECF6",
           "caxis": {
            "gridcolor": "white",
            "linecolor": "white",
            "ticks": ""
           }
          },
          "title": {
           "x": 0.05
          },
          "xaxis": {
           "automargin": true,
           "gridcolor": "white",
           "linecolor": "white",
           "ticks": "",
           "title": {
            "standoff": 15
           },
           "zerolinecolor": "white",
           "zerolinewidth": 2
          },
          "yaxis": {
           "automargin": true,
           "gridcolor": "white",
           "linecolor": "white",
           "ticks": "",
           "title": {
            "standoff": 15
           },
           "zerolinecolor": "white",
           "zerolinewidth": 2
          }
         }
        },
        "title": {
         "text": "Group Distribution Plot"
        },
        "xaxis": {
         "anchor": "y",
         "categoryarray": [
          "exp",
          "con"
         ],
         "categoryorder": "array",
         "domain": [
          0,
          1
         ],
         "title": {
          "text": "group"
         }
        },
        "yaxis": {
         "anchor": "x",
         "domain": [
          0,
          1
         ],
         "title": {
          "text": "count"
         }
        }
       }
      }
     },
     "metadata": {},
     "output_type": "display_data"
    }
   ],
   "source": [
    "# plot the group distristion across the dataframe.\n",
    "fig = px.bar(\n",
    "    group_count, \n",
    "    x='group', \n",
    "    y='count', \n",
    "    color='group', \n",
    "    text='label',\n",
    "    title='Group Distribution Plot' \n",
    "    )\n",
    "fig"
   ]
  },
  {
   "cell_type": "markdown",
   "id": "8d9bfcd7",
   "metadata": {},
   "source": [
    "### CLICK DISTRIBUTION ACROSS THE TWO GROUPS.\n",
    "\n",
    "In the final phase of the exploration analysis is to understand how the clicks are distributed across the two groups. This will provide a surface insight of which group had more interaction in the experiment. The resulting table is plotted after the table."
   ]
  },
  {
   "cell_type": "code",
   "execution_count": 12,
   "id": "25c61738",
   "metadata": {},
   "outputs": [
    {
     "data": {
      "text/html": [
       "<div>\n",
       "<style scoped>\n",
       "    .dataframe tbody tr th:only-of-type {\n",
       "        vertical-align: middle;\n",
       "    }\n",
       "\n",
       "    .dataframe tbody tr th {\n",
       "        vertical-align: top;\n",
       "    }\n",
       "\n",
       "    .dataframe thead th {\n",
       "        text-align: right;\n",
       "    }\n",
       "</style>\n",
       "<table border=\"1\" class=\"dataframe\">\n",
       "  <thead>\n",
       "    <tr style=\"text-align: right;\">\n",
       "      <th></th>\n",
       "      <th>group</th>\n",
       "      <th>click</th>\n",
       "      <th>count</th>\n",
       "      <th>percentage</th>\n",
       "      <th>label</th>\n",
       "    </tr>\n",
       "  </thead>\n",
       "  <tbody>\n",
       "    <tr>\n",
       "      <th>0</th>\n",
       "      <td>con</td>\n",
       "      <td>0</td>\n",
       "      <td>8011</td>\n",
       "      <td>80.11</td>\n",
       "      <td>80.11%</td>\n",
       "    </tr>\n",
       "    <tr>\n",
       "      <th>1</th>\n",
       "      <td>con</td>\n",
       "      <td>1</td>\n",
       "      <td>1989</td>\n",
       "      <td>19.89</td>\n",
       "      <td>19.89%</td>\n",
       "    </tr>\n",
       "    <tr>\n",
       "      <th>2</th>\n",
       "      <td>exp</td>\n",
       "      <td>1</td>\n",
       "      <td>6116</td>\n",
       "      <td>61.16</td>\n",
       "      <td>61.16%</td>\n",
       "    </tr>\n",
       "    <tr>\n",
       "      <th>3</th>\n",
       "      <td>exp</td>\n",
       "      <td>0</td>\n",
       "      <td>3884</td>\n",
       "      <td>38.84</td>\n",
       "      <td>38.84%</td>\n",
       "    </tr>\n",
       "  </tbody>\n",
       "</table>\n",
       "</div>"
      ],
      "text/plain": [
       "  group click  count  percentage   label\n",
       "0   con     0   8011       80.11  80.11%\n",
       "1   con     1   1989       19.89  19.89%\n",
       "2   exp     1   6116       61.16  61.16%\n",
       "3   exp     0   3884       38.84  38.84%"
      ]
     },
     "execution_count": 12,
     "metadata": {},
     "output_type": "execute_result"
    }
   ],
   "source": [
    "# call variable_count() to plot the click count per group passing 'group' to group_col and passing 'click' to filter_col\n",
    "click_distribution_across_groups = variable_count(rec_sys_df, group_col='group', filter_col='click')\n",
    "click_distribution_across_groups"
   ]
  },
  {
   "cell_type": "code",
   "execution_count": 13,
   "id": "54602b39",
   "metadata": {},
   "outputs": [
    {
     "data": {
      "application/vnd.plotly.v1+json": {
       "config": {
        "plotlyServerURL": "https://plot.ly"
       },
       "data": [
        {
         "alignmentgroup": "True",
         "hovertemplate": "click=0<br>group=%{x}<br>count=%{y}<br>label=%{text}<extra></extra>",
         "legendgroup": "0",
         "marker": {
          "color": "#E74C3C",
          "pattern": {
           "shape": ""
          }
         },
         "name": "0",
         "offsetgroup": "0",
         "orientation": "v",
         "showlegend": true,
         "text": [
          "80.11%",
          "38.84%"
         ],
         "textposition": "auto",
         "type": "bar",
         "x": [
          "con",
          "exp"
         ],
         "xaxis": "x",
         "y": {
          "bdata": "Sx8sDw==",
          "dtype": "i2"
         },
         "yaxis": "y"
        },
        {
         "alignmentgroup": "True",
         "hovertemplate": "click=1<br>group=%{x}<br>count=%{y}<br>label=%{text}<extra></extra>",
         "legendgroup": "1",
         "marker": {
          "color": "#2ECC71",
          "pattern": {
           "shape": ""
          }
         },
         "name": "1",
         "offsetgroup": "1",
         "orientation": "v",
         "showlegend": true,
         "text": [
          "19.89%",
          "61.16%"
         ],
         "textposition": "auto",
         "type": "bar",
         "x": [
          "con",
          "exp"
         ],
         "xaxis": "x",
         "y": {
          "bdata": "xQfkFw==",
          "dtype": "i2"
         },
         "yaxis": "y"
        }
       ],
       "layout": {
        "barmode": "group",
        "legend": {
         "title": {
          "text": "click"
         },
         "tracegroupgap": 0
        },
        "template": {
         "data": {
          "bar": [
           {
            "error_x": {
             "color": "#2a3f5f"
            },
            "error_y": {
             "color": "#2a3f5f"
            },
            "marker": {
             "line": {
              "color": "#E5ECF6",
              "width": 0.5
             },
             "pattern": {
              "fillmode": "overlay",
              "size": 10,
              "solidity": 0.2
             }
            },
            "type": "bar"
           }
          ],
          "barpolar": [
           {
            "marker": {
             "line": {
              "color": "#E5ECF6",
              "width": 0.5
             },
             "pattern": {
              "fillmode": "overlay",
              "size": 10,
              "solidity": 0.2
             }
            },
            "type": "barpolar"
           }
          ],
          "carpet": [
           {
            "aaxis": {
             "endlinecolor": "#2a3f5f",
             "gridcolor": "white",
             "linecolor": "white",
             "minorgridcolor": "white",
             "startlinecolor": "#2a3f5f"
            },
            "baxis": {
             "endlinecolor": "#2a3f5f",
             "gridcolor": "white",
             "linecolor": "white",
             "minorgridcolor": "white",
             "startlinecolor": "#2a3f5f"
            },
            "type": "carpet"
           }
          ],
          "choropleth": [
           {
            "colorbar": {
             "outlinewidth": 0,
             "ticks": ""
            },
            "type": "choropleth"
           }
          ],
          "contour": [
           {
            "colorbar": {
             "outlinewidth": 0,
             "ticks": ""
            },
            "colorscale": [
             [
              0,
              "#0d0887"
             ],
             [
              0.1111111111111111,
              "#46039f"
             ],
             [
              0.2222222222222222,
              "#7201a8"
             ],
             [
              0.3333333333333333,
              "#9c179e"
             ],
             [
              0.4444444444444444,
              "#bd3786"
             ],
             [
              0.5555555555555556,
              "#d8576b"
             ],
             [
              0.6666666666666666,
              "#ed7953"
             ],
             [
              0.7777777777777778,
              "#fb9f3a"
             ],
             [
              0.8888888888888888,
              "#fdca26"
             ],
             [
              1,
              "#f0f921"
             ]
            ],
            "type": "contour"
           }
          ],
          "contourcarpet": [
           {
            "colorbar": {
             "outlinewidth": 0,
             "ticks": ""
            },
            "type": "contourcarpet"
           }
          ],
          "heatmap": [
           {
            "colorbar": {
             "outlinewidth": 0,
             "ticks": ""
            },
            "colorscale": [
             [
              0,
              "#0d0887"
             ],
             [
              0.1111111111111111,
              "#46039f"
             ],
             [
              0.2222222222222222,
              "#7201a8"
             ],
             [
              0.3333333333333333,
              "#9c179e"
             ],
             [
              0.4444444444444444,
              "#bd3786"
             ],
             [
              0.5555555555555556,
              "#d8576b"
             ],
             [
              0.6666666666666666,
              "#ed7953"
             ],
             [
              0.7777777777777778,
              "#fb9f3a"
             ],
             [
              0.8888888888888888,
              "#fdca26"
             ],
             [
              1,
              "#f0f921"
             ]
            ],
            "type": "heatmap"
           }
          ],
          "histogram": [
           {
            "marker": {
             "pattern": {
              "fillmode": "overlay",
              "size": 10,
              "solidity": 0.2
             }
            },
            "type": "histogram"
           }
          ],
          "histogram2d": [
           {
            "colorbar": {
             "outlinewidth": 0,
             "ticks": ""
            },
            "colorscale": [
             [
              0,
              "#0d0887"
             ],
             [
              0.1111111111111111,
              "#46039f"
             ],
             [
              0.2222222222222222,
              "#7201a8"
             ],
             [
              0.3333333333333333,
              "#9c179e"
             ],
             [
              0.4444444444444444,
              "#bd3786"
             ],
             [
              0.5555555555555556,
              "#d8576b"
             ],
             [
              0.6666666666666666,
              "#ed7953"
             ],
             [
              0.7777777777777778,
              "#fb9f3a"
             ],
             [
              0.8888888888888888,
              "#fdca26"
             ],
             [
              1,
              "#f0f921"
             ]
            ],
            "type": "histogram2d"
           }
          ],
          "histogram2dcontour": [
           {
            "colorbar": {
             "outlinewidth": 0,
             "ticks": ""
            },
            "colorscale": [
             [
              0,
              "#0d0887"
             ],
             [
              0.1111111111111111,
              "#46039f"
             ],
             [
              0.2222222222222222,
              "#7201a8"
             ],
             [
              0.3333333333333333,
              "#9c179e"
             ],
             [
              0.4444444444444444,
              "#bd3786"
             ],
             [
              0.5555555555555556,
              "#d8576b"
             ],
             [
              0.6666666666666666,
              "#ed7953"
             ],
             [
              0.7777777777777778,
              "#fb9f3a"
             ],
             [
              0.8888888888888888,
              "#fdca26"
             ],
             [
              1,
              "#f0f921"
             ]
            ],
            "type": "histogram2dcontour"
           }
          ],
          "mesh3d": [
           {
            "colorbar": {
             "outlinewidth": 0,
             "ticks": ""
            },
            "type": "mesh3d"
           }
          ],
          "parcoords": [
           {
            "line": {
             "colorbar": {
              "outlinewidth": 0,
              "ticks": ""
             }
            },
            "type": "parcoords"
           }
          ],
          "pie": [
           {
            "automargin": true,
            "type": "pie"
           }
          ],
          "scatter": [
           {
            "fillpattern": {
             "fillmode": "overlay",
             "size": 10,
             "solidity": 0.2
            },
            "type": "scatter"
           }
          ],
          "scatter3d": [
           {
            "line": {
             "colorbar": {
              "outlinewidth": 0,
              "ticks": ""
             }
            },
            "marker": {
             "colorbar": {
              "outlinewidth": 0,
              "ticks": ""
             }
            },
            "type": "scatter3d"
           }
          ],
          "scattercarpet": [
           {
            "marker": {
             "colorbar": {
              "outlinewidth": 0,
              "ticks": ""
             }
            },
            "type": "scattercarpet"
           }
          ],
          "scattergeo": [
           {
            "marker": {
             "colorbar": {
              "outlinewidth": 0,
              "ticks": ""
             }
            },
            "type": "scattergeo"
           }
          ],
          "scattergl": [
           {
            "marker": {
             "colorbar": {
              "outlinewidth": 0,
              "ticks": ""
             }
            },
            "type": "scattergl"
           }
          ],
          "scattermap": [
           {
            "marker": {
             "colorbar": {
              "outlinewidth": 0,
              "ticks": ""
             }
            },
            "type": "scattermap"
           }
          ],
          "scattermapbox": [
           {
            "marker": {
             "colorbar": {
              "outlinewidth": 0,
              "ticks": ""
             }
            },
            "type": "scattermapbox"
           }
          ],
          "scatterpolar": [
           {
            "marker": {
             "colorbar": {
              "outlinewidth": 0,
              "ticks": ""
             }
            },
            "type": "scatterpolar"
           }
          ],
          "scatterpolargl": [
           {
            "marker": {
             "colorbar": {
              "outlinewidth": 0,
              "ticks": ""
             }
            },
            "type": "scatterpolargl"
           }
          ],
          "scatterternary": [
           {
            "marker": {
             "colorbar": {
              "outlinewidth": 0,
              "ticks": ""
             }
            },
            "type": "scatterternary"
           }
          ],
          "surface": [
           {
            "colorbar": {
             "outlinewidth": 0,
             "ticks": ""
            },
            "colorscale": [
             [
              0,
              "#0d0887"
             ],
             [
              0.1111111111111111,
              "#46039f"
             ],
             [
              0.2222222222222222,
              "#7201a8"
             ],
             [
              0.3333333333333333,
              "#9c179e"
             ],
             [
              0.4444444444444444,
              "#bd3786"
             ],
             [
              0.5555555555555556,
              "#d8576b"
             ],
             [
              0.6666666666666666,
              "#ed7953"
             ],
             [
              0.7777777777777778,
              "#fb9f3a"
             ],
             [
              0.8888888888888888,
              "#fdca26"
             ],
             [
              1,
              "#f0f921"
             ]
            ],
            "type": "surface"
           }
          ],
          "table": [
           {
            "cells": {
             "fill": {
              "color": "#EBF0F8"
             },
             "line": {
              "color": "white"
             }
            },
            "header": {
             "fill": {
              "color": "#C8D4E3"
             },
             "line": {
              "color": "white"
             }
            },
            "type": "table"
           }
          ]
         },
         "layout": {
          "annotationdefaults": {
           "arrowcolor": "#2a3f5f",
           "arrowhead": 0,
           "arrowwidth": 1
          },
          "autotypenumbers": "strict",
          "coloraxis": {
           "colorbar": {
            "outlinewidth": 0,
            "ticks": ""
           }
          },
          "colorscale": {
           "diverging": [
            [
             0,
             "#8e0152"
            ],
            [
             0.1,
             "#c51b7d"
            ],
            [
             0.2,
             "#de77ae"
            ],
            [
             0.3,
             "#f1b6da"
            ],
            [
             0.4,
             "#fde0ef"
            ],
            [
             0.5,
             "#f7f7f7"
            ],
            [
             0.6,
             "#e6f5d0"
            ],
            [
             0.7,
             "#b8e186"
            ],
            [
             0.8,
             "#7fbc41"
            ],
            [
             0.9,
             "#4d9221"
            ],
            [
             1,
             "#276419"
            ]
           ],
           "sequential": [
            [
             0,
             "#0d0887"
            ],
            [
             0.1111111111111111,
             "#46039f"
            ],
            [
             0.2222222222222222,
             "#7201a8"
            ],
            [
             0.3333333333333333,
             "#9c179e"
            ],
            [
             0.4444444444444444,
             "#bd3786"
            ],
            [
             0.5555555555555556,
             "#d8576b"
            ],
            [
             0.6666666666666666,
             "#ed7953"
            ],
            [
             0.7777777777777778,
             "#fb9f3a"
            ],
            [
             0.8888888888888888,
             "#fdca26"
            ],
            [
             1,
             "#f0f921"
            ]
           ],
           "sequentialminus": [
            [
             0,
             "#0d0887"
            ],
            [
             0.1111111111111111,
             "#46039f"
            ],
            [
             0.2222222222222222,
             "#7201a8"
            ],
            [
             0.3333333333333333,
             "#9c179e"
            ],
            [
             0.4444444444444444,
             "#bd3786"
            ],
            [
             0.5555555555555556,
             "#d8576b"
            ],
            [
             0.6666666666666666,
             "#ed7953"
            ],
            [
             0.7777777777777778,
             "#fb9f3a"
            ],
            [
             0.8888888888888888,
             "#fdca26"
            ],
            [
             1,
             "#f0f921"
            ]
           ]
          },
          "colorway": [
           "#636efa",
           "#EF553B",
           "#00cc96",
           "#ab63fa",
           "#FFA15A",
           "#19d3f3",
           "#FF6692",
           "#B6E880",
           "#FF97FF",
           "#FECB52"
          ],
          "font": {
           "color": "#2a3f5f"
          },
          "geo": {
           "bgcolor": "white",
           "lakecolor": "white",
           "landcolor": "#E5ECF6",
           "showlakes": true,
           "showland": true,
           "subunitcolor": "white"
          },
          "hoverlabel": {
           "align": "left"
          },
          "hovermode": "closest",
          "mapbox": {
           "style": "light"
          },
          "paper_bgcolor": "white",
          "plot_bgcolor": "#E5ECF6",
          "polar": {
           "angularaxis": {
            "gridcolor": "white",
            "linecolor": "white",
            "ticks": ""
           },
           "bgcolor": "#E5ECF6",
           "radialaxis": {
            "gridcolor": "white",
            "linecolor": "white",
            "ticks": ""
           }
          },
          "scene": {
           "xaxis": {
            "backgroundcolor": "#E5ECF6",
            "gridcolor": "white",
            "gridwidth": 2,
            "linecolor": "white",
            "showbackground": true,
            "ticks": "",
            "zerolinecolor": "white"
           },
           "yaxis": {
            "backgroundcolor": "#E5ECF6",
            "gridcolor": "white",
            "gridwidth": 2,
            "linecolor": "white",
            "showbackground": true,
            "ticks": "",
            "zerolinecolor": "white"
           },
           "zaxis": {
            "backgroundcolor": "#E5ECF6",
            "gridcolor": "white",
            "gridwidth": 2,
            "linecolor": "white",
            "showbackground": true,
            "ticks": "",
            "zerolinecolor": "white"
           }
          },
          "shapedefaults": {
           "line": {
            "color": "#2a3f5f"
           }
          },
          "ternary": {
           "aaxis": {
            "gridcolor": "white",
            "linecolor": "white",
            "ticks": ""
           },
           "baxis": {
            "gridcolor": "white",
            "linecolor": "white",
            "ticks": ""
           },
           "bgcolor": "#E5ECF6",
           "caxis": {
            "gridcolor": "white",
            "linecolor": "white",
            "ticks": ""
           }
          },
          "title": {
           "x": 0.05
          },
          "xaxis": {
           "automargin": true,
           "gridcolor": "white",
           "linecolor": "white",
           "ticks": "",
           "title": {
            "standoff": 15
           },
           "zerolinecolor": "white",
           "zerolinewidth": 2
          },
          "yaxis": {
           "automargin": true,
           "gridcolor": "white",
           "linecolor": "white",
           "ticks": "",
           "title": {
            "standoff": 15
           },
           "zerolinecolor": "white",
           "zerolinewidth": 2
          }
         }
        },
        "title": {
         "text": "Click Distribution Across The Experimental and Control Groups"
        },
        "xaxis": {
         "anchor": "y",
         "domain": [
          0,
          1
         ],
         "title": {
          "text": "group"
         }
        },
        "yaxis": {
         "anchor": "x",
         "domain": [
          0,
          1
         ],
         "title": {
          "text": "count"
         }
        }
       }
      }
     },
     "metadata": {},
     "output_type": "display_data"
    }
   ],
   "source": [
    "fig = px.bar(\n",
    "    click_distribution_across_groups,\n",
    "    x='group',\n",
    "    y='count',\n",
    "    text='label',\n",
    "    title='Click Distribution Across The Experimental and Control Groups',\n",
    "    color='click',\n",
    "    barmode='group',\n",
    "    color_discrete_sequence=color_palette \n",
    ")\n",
    "fig"
   ]
  },
  {
   "cell_type": "markdown",
   "id": "f095693d",
   "metadata": {},
   "source": [
    "In the control group, out of $10,000$ users $8,011$ didn't click the 'secure free trial' button while $1,989$ clicked the button. In the experiment group, out of $10,000$ users, $6,116$ clicked on the 'enroll now' button and $3,884$ didn't. This already suggests a difference in $CTR$ for the two groups. This difference is what will be tested in the following cell to confirm if it is there or by chance. The test will be started off with the chi-squared test of independency.\n",
    "\n",
    "## CHI-SQUARED TEST OF DEPENDENCY.\n",
    "\n",
    "The aim is to use the chi-squared test to test if `click` variable is independent of the button type. The hypothesis would be stated as follows:\n",
    "$$\n",
    "\\begin{aligned}\n",
    "H_{0}: & \\; \\text{click is independent of button text} \\\\\n",
    "H_{a}: & \\; \\text{click is not independent of button text}\n",
    "\\end{aligned}\n",
    "$$\n",
    "\n",
    "The objective is to test the above hypothesis using data from the dataset. In this case, it will be favourable if there is enough statistical evidence against $H_{0}$ for a given $\\alpha$-level. To do this, a contigency table strategy is employed. A contigency table is simply a table containing the observed click and no click distribution across the control and experimental groups. For this test, a contigency table will be constructed using the group variable and the click variable. The contigency table is constructed with pandas' `crosstab()` function. \n",
    "> there are vast literatures on Chai-Squared Test which explains how to compute the frequency contigency table if the $H_{0}$ is true. Here, we shall only state the Chai-Squared test statistic."
   ]
  },
  {
   "cell_type": "markdown",
   "id": "731f1ed5",
   "metadata": {},
   "source": [
    "The formular for the chi-squared test statistic follows:\n",
    "\n",
    "$$\n",
    "\\chi^{2} = \\sum_{i=1}^r \\sum_{j=1}^c \\frac{(O_{ij}-E_{ij})^2}{E_{ij}}\n",
    "$$\n",
    "\n",
    "Where:\n",
    "\n",
    "- $O_{ij} = \\text{Observed frequency in row}\\; i \\; \\text{column}\\;j$\n",
    "- $E_{ij} = \\text{Expected frequency in row}\\; i \\; \\text{column}\\;j$\n",
    "- $r = \\text{ number of rows}$\n",
    "- $c = \\text{ number of columns}$\n",
    "\n",
    "And:\n",
    "$$\n",
    "E_{ij} = \\frac{(\\text{row total of } i)(\\text{column total of } j)}{\\text{grand total}}\n",
    "$$\n",
    "With degree of freedom:\n",
    "\n",
    "$$ df = (r-1)(c-1)\n",
    "$$\n",
    "\n",
    "With the above, a $p$-value is calculated.\n",
    "\n",
    "So, for a given $\\alpha$, if $ p \\leq \\alpha $ then, there is enough statistical evidence to reject $H_{0}$. Below is the contigency table for the dataset:\n",
    "\n"
   ]
  },
  {
   "cell_type": "code",
   "execution_count": 14,
   "id": "fcf38dbe",
   "metadata": {},
   "outputs": [
    {
     "data": {
      "text/html": [
       "<div>\n",
       "<style scoped>\n",
       "    .dataframe tbody tr th:only-of-type {\n",
       "        vertical-align: middle;\n",
       "    }\n",
       "\n",
       "    .dataframe tbody tr th {\n",
       "        vertical-align: top;\n",
       "    }\n",
       "\n",
       "    .dataframe thead th {\n",
       "        text-align: right;\n",
       "    }\n",
       "</style>\n",
       "<table border=\"1\" class=\"dataframe\">\n",
       "  <thead>\n",
       "    <tr style=\"text-align: right;\">\n",
       "      <th>click</th>\n",
       "      <th>0</th>\n",
       "      <th>1</th>\n",
       "    </tr>\n",
       "    <tr>\n",
       "      <th>group</th>\n",
       "      <th></th>\n",
       "      <th></th>\n",
       "    </tr>\n",
       "  </thead>\n",
       "  <tbody>\n",
       "    <tr>\n",
       "      <th>con</th>\n",
       "      <td>8011</td>\n",
       "      <td>1989</td>\n",
       "    </tr>\n",
       "    <tr>\n",
       "      <th>exp</th>\n",
       "      <td>3884</td>\n",
       "      <td>6116</td>\n",
       "    </tr>\n",
       "  </tbody>\n",
       "</table>\n",
       "</div>"
      ],
      "text/plain": [
       "click     0     1\n",
       "group            \n",
       "con    8011  1989\n",
       "exp    3884  6116"
      ]
     },
     "execution_count": 14,
     "metadata": {},
     "output_type": "execute_result"
    }
   ],
   "source": [
    "# construct a contegency table using pd.crosstab() passing 'group' and 'click' as row and column respectively.\n",
    "contigency_table = pd.crosstab(rec_sys_df['group'],rec_sys_df['click'])\n",
    "contigency_table"
   ]
  },
  {
   "cell_type": "markdown",
   "id": "029ba6db",
   "metadata": {},
   "source": [
    "For the actual Chi-Squared test, the `chi2_contigency()` will be used to conduct the test with the following $\\alpha$ value:\n",
    "\n",
    "$$\n",
    "\\alpha = 0.05\n",
    "$$"
   ]
  },
  {
   "cell_type": "code",
   "execution_count": 15,
   "id": "8e5fb236",
   "metadata": {},
   "outputs": [
    {
     "name": "stdout",
     "output_type": "stream",
     "text": [
      "Chi-Square Statistic: 3531.5957\n",
      "p-value: 0.0000000000\n",
      "Degree of Freedom: 1\n",
      "Expected Frequencies:\n",
      "[[5947.5 4052.5]\n",
      " [5947.5 4052.5]]\n"
     ]
    }
   ],
   "source": [
    "# use a tuple to unpack the values of the function chi_contigency() after passing the contigency table to it.\n",
    "chi_2, p_value, degree_of_freedom, expected = chi2_contingency(contigency_table)\n",
    "print(f'Chi-Square Statistic: {chi_2:.4f}') # the test statistic\n",
    "print(f'p-value: {p_value:.10f}') # the p-value\n",
    "print(f'Degree of Freedom: {degree_of_freedom}') # degree of freedom\n",
    "print('Expected Frequencies:')\n",
    "print(expected) # expected frequency table."
   ]
  },
  {
   "cell_type": "code",
   "execution_count": null,
   "id": "78e59380",
   "metadata": {},
   "outputs": [
    {
     "data": {
      "application/vnd.plotly.v1+json": {
       "config": {
        "plotlyServerURL": "https://plot.ly"
       },
       "data": [
        {
         "mode": "lines",
         "name": "Chi-Squared(df=1)",
         "type": "scatter",
         "x": {
          "bdata": "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",
          "dtype": "f8"
         },
         "y": {
          "bdata": "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",
          "dtype": "f8"
         }
        },
        {
         "fill": "tozeroy",
         "fillcolor": "rgba(255,0,0,0.4)",
         "mode": "none",
         "name": "Rejection Region",
         "type": "scatter",
         "x": {
          "bdata": "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",
          "dtype": "f8"
         },
         "y": {
          "bdata": "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",
          "dtype": "f8"
         }
        },
        {
         "line": {
          "color": "green",
          "dash": "dash",
          "width": 2
         },
         "mode": "lines",
         "name": "Test Statistic = 3531.60 (off-chart)",
         "type": "scatter",
         "x": [
          3531.595683908059,
          3531.595683908059
         ],
         "y": [
          0,
          0.1
         ]
        },
        {
         "line": {
          "color": "blue",
          "dash": "dash",
          "width": 2
         },
         "mode": "lines",
         "name": "Chi2 Critical = 3.84",
         "type": "scatter",
         "x": [
          3.841458820694124,
          3.841458820694124
         ],
         "y": [
          0,
          0.02981946110542984
         ]
        }
       ],
       "layout": {
        "template": {
         "data": {
          "bar": [
           {
            "error_x": {
             "color": "rgb(36,36,36)"
            },
            "error_y": {
             "color": "rgb(36,36,36)"
            },
            "marker": {
             "line": {
              "color": "white",
              "width": 0.5
             },
             "pattern": {
              "fillmode": "overlay",
              "size": 10,
              "solidity": 0.2
             }
            },
            "type": "bar"
           }
          ],
          "barpolar": [
           {
            "marker": {
             "line": {
              "color": "white",
              "width": 0.5
             },
             "pattern": {
              "fillmode": "overlay",
              "size": 10,
              "solidity": 0.2
             }
            },
            "type": "barpolar"
           }
          ],
          "carpet": [
           {
            "aaxis": {
             "endlinecolor": "rgb(36,36,36)",
             "gridcolor": "white",
             "linecolor": "white",
             "minorgridcolor": "white",
             "startlinecolor": "rgb(36,36,36)"
            },
            "baxis": {
             "endlinecolor": "rgb(36,36,36)",
             "gridcolor": "white",
             "linecolor": "white",
             "minorgridcolor": "white",
             "startlinecolor": "rgb(36,36,36)"
            },
            "type": "carpet"
           }
          ],
          "choropleth": [
           {
            "colorbar": {
             "outlinewidth": 1,
             "tickcolor": "rgb(36,36,36)",
             "ticks": "outside"
            },
            "type": "choropleth"
           }
          ],
          "contour": [
           {
            "colorbar": {
             "outlinewidth": 1,
             "tickcolor": "rgb(36,36,36)",
             "ticks": "outside"
            },
            "colorscale": [
             [
              0,
              "#440154"
             ],
             [
              0.1111111111111111,
              "#482878"
             ],
             [
              0.2222222222222222,
              "#3e4989"
             ],
             [
              0.3333333333333333,
              "#31688e"
             ],
             [
              0.4444444444444444,
              "#26828e"
             ],
             [
              0.5555555555555556,
              "#1f9e89"
             ],
             [
              0.6666666666666666,
              "#35b779"
             ],
             [
              0.7777777777777778,
              "#6ece58"
             ],
             [
              0.8888888888888888,
              "#b5de2b"
             ],
             [
              1,
              "#fde725"
             ]
            ],
            "type": "contour"
           }
          ],
          "contourcarpet": [
           {
            "colorbar": {
             "outlinewidth": 1,
             "tickcolor": "rgb(36,36,36)",
             "ticks": "outside"
            },
            "type": "contourcarpet"
           }
          ],
          "heatmap": [
           {
            "colorbar": {
             "outlinewidth": 1,
             "tickcolor": "rgb(36,36,36)",
             "ticks": "outside"
            },
            "colorscale": [
             [
              0,
              "#440154"
             ],
             [
              0.1111111111111111,
              "#482878"
             ],
             [
              0.2222222222222222,
              "#3e4989"
             ],
             [
              0.3333333333333333,
              "#31688e"
             ],
             [
              0.4444444444444444,
              "#26828e"
             ],
             [
              0.5555555555555556,
              "#1f9e89"
             ],
             [
              0.6666666666666666,
              "#35b779"
             ],
             [
              0.7777777777777778,
              "#6ece58"
             ],
             [
              0.8888888888888888,
              "#b5de2b"
             ],
             [
              1,
              "#fde725"
             ]
            ],
            "type": "heatmap"
           }
          ],
          "histogram": [
           {
            "marker": {
             "line": {
              "color": "white",
              "width": 0.6
             }
            },
            "type": "histogram"
           }
          ],
          "histogram2d": [
           {
            "colorbar": {
             "outlinewidth": 1,
             "tickcolor": "rgb(36,36,36)",
             "ticks": "outside"
            },
            "colorscale": [
             [
              0,
              "#440154"
             ],
             [
              0.1111111111111111,
              "#482878"
             ],
             [
              0.2222222222222222,
              "#3e4989"
             ],
             [
              0.3333333333333333,
              "#31688e"
             ],
             [
              0.4444444444444444,
              "#26828e"
             ],
             [
              0.5555555555555556,
              "#1f9e89"
             ],
             [
              0.6666666666666666,
              "#35b779"
             ],
             [
              0.7777777777777778,
              "#6ece58"
             ],
             [
              0.8888888888888888,
              "#b5de2b"
             ],
             [
              1,
              "#fde725"
             ]
            ],
            "type": "histogram2d"
           }
          ],
          "histogram2dcontour": [
           {
            "colorbar": {
             "outlinewidth": 1,
             "tickcolor": "rgb(36,36,36)",
             "ticks": "outside"
            },
            "colorscale": [
             [
              0,
              "#440154"
             ],
             [
              0.1111111111111111,
              "#482878"
             ],
             [
              0.2222222222222222,
              "#3e4989"
             ],
             [
              0.3333333333333333,
              "#31688e"
             ],
             [
              0.4444444444444444,
              "#26828e"
             ],
             [
              0.5555555555555556,
              "#1f9e89"
             ],
             [
              0.6666666666666666,
              "#35b779"
             ],
             [
              0.7777777777777778,
              "#6ece58"
             ],
             [
              0.8888888888888888,
              "#b5de2b"
             ],
             [
              1,
              "#fde725"
             ]
            ],
            "type": "histogram2dcontour"
           }
          ],
          "mesh3d": [
           {
            "colorbar": {
             "outlinewidth": 1,
             "tickcolor": "rgb(36,36,36)",
             "ticks": "outside"
            },
            "type": "mesh3d"
           }
          ],
          "parcoords": [
           {
            "line": {
             "colorbar": {
              "outlinewidth": 1,
              "tickcolor": "rgb(36,36,36)",
              "ticks": "outside"
             }
            },
            "type": "parcoords"
           }
          ],
          "pie": [
           {
            "automargin": true,
            "type": "pie"
           }
          ],
          "scatter": [
           {
            "fillpattern": {
             "fillmode": "overlay",
             "size": 10,
             "solidity": 0.2
            },
            "type": "scatter"
           }
          ],
          "scatter3d": [
           {
            "line": {
             "colorbar": {
              "outlinewidth": 1,
              "tickcolor": "rgb(36,36,36)",
              "ticks": "outside"
             }
            },
            "marker": {
             "colorbar": {
              "outlinewidth": 1,
              "tickcolor": "rgb(36,36,36)",
              "ticks": "outside"
             }
            },
            "type": "scatter3d"
           }
          ],
          "scattercarpet": [
           {
            "marker": {
             "colorbar": {
              "outlinewidth": 1,
              "tickcolor": "rgb(36,36,36)",
              "ticks": "outside"
             }
            },
            "type": "scattercarpet"
           }
          ],
          "scattergeo": [
           {
            "marker": {
             "colorbar": {
              "outlinewidth": 1,
              "tickcolor": "rgb(36,36,36)",
              "ticks": "outside"
             }
            },
            "type": "scattergeo"
           }
          ],
          "scattergl": [
           {
            "marker": {
             "colorbar": {
              "outlinewidth": 1,
              "tickcolor": "rgb(36,36,36)",
              "ticks": "outside"
             }
            },
            "type": "scattergl"
           }
          ],
          "scattermap": [
           {
            "marker": {
             "colorbar": {
              "outlinewidth": 1,
              "tickcolor": "rgb(36,36,36)",
              "ticks": "outside"
             }
            },
            "type": "scattermap"
           }
          ],
          "scattermapbox": [
           {
            "marker": {
             "colorbar": {
              "outlinewidth": 1,
              "tickcolor": "rgb(36,36,36)",
              "ticks": "outside"
             }
            },
            "type": "scattermapbox"
           }
          ],
          "scatterpolar": [
           {
            "marker": {
             "colorbar": {
              "outlinewidth": 1,
              "tickcolor": "rgb(36,36,36)",
              "ticks": "outside"
             }
            },
            "type": "scatterpolar"
           }
          ],
          "scatterpolargl": [
           {
            "marker": {
             "colorbar": {
              "outlinewidth": 1,
              "tickcolor": "rgb(36,36,36)",
              "ticks": "outside"
             }
            },
            "type": "scatterpolargl"
           }
          ],
          "scatterternary": [
           {
            "marker": {
             "colorbar": {
              "outlinewidth": 1,
              "tickcolor": "rgb(36,36,36)",
              "ticks": "outside"
             }
            },
            "type": "scatterternary"
           }
          ],
          "surface": [
           {
            "colorbar": {
             "outlinewidth": 1,
             "tickcolor": "rgb(36,36,36)",
             "ticks": "outside"
            },
            "colorscale": [
             [
              0,
              "#440154"
             ],
             [
              0.1111111111111111,
              "#482878"
             ],
             [
              0.2222222222222222,
              "#3e4989"
             ],
             [
              0.3333333333333333,
              "#31688e"
             ],
             [
              0.4444444444444444,
              "#26828e"
             ],
             [
              0.5555555555555556,
              "#1f9e89"
             ],
             [
              0.6666666666666666,
              "#35b779"
             ],
             [
              0.7777777777777778,
              "#6ece58"
             ],
             [
              0.8888888888888888,
              "#b5de2b"
             ],
             [
              1,
              "#fde725"
             ]
            ],
            "type": "surface"
           }
          ],
          "table": [
           {
            "cells": {
             "fill": {
              "color": "rgb(237,237,237)"
             },
             "line": {
              "color": "white"
             }
            },
            "header": {
             "fill": {
              "color": "rgb(217,217,217)"
             },
             "line": {
              "color": "white"
             }
            },
            "type": "table"
           }
          ]
         },
         "layout": {
          "annotationdefaults": {
           "arrowhead": 0,
           "arrowwidth": 1
          },
          "autotypenumbers": "strict",
          "coloraxis": {
           "colorbar": {
            "outlinewidth": 1,
            "tickcolor": "rgb(36,36,36)",
            "ticks": "outside"
           }
          },
          "colorscale": {
           "diverging": [
            [
             0,
             "rgb(103,0,31)"
            ],
            [
             0.1,
             "rgb(178,24,43)"
            ],
            [
             0.2,
             "rgb(214,96,77)"
            ],
            [
             0.3,
             "rgb(244,165,130)"
            ],
            [
             0.4,
             "rgb(253,219,199)"
            ],
            [
             0.5,
             "rgb(247,247,247)"
            ],
            [
             0.6,
             "rgb(209,229,240)"
            ],
            [
             0.7,
             "rgb(146,197,222)"
            ],
            [
             0.8,
             "rgb(67,147,195)"
            ],
            [
             0.9,
             "rgb(33,102,172)"
            ],
            [
             1,
             "rgb(5,48,97)"
            ]
           ],
           "sequential": [
            [
             0,
             "#440154"
            ],
            [
             0.1111111111111111,
             "#482878"
            ],
            [
             0.2222222222222222,
             "#3e4989"
            ],
            [
             0.3333333333333333,
             "#31688e"
            ],
            [
             0.4444444444444444,
             "#26828e"
            ],
            [
             0.5555555555555556,
             "#1f9e89"
            ],
            [
             0.6666666666666666,
             "#35b779"
            ],
            [
             0.7777777777777778,
             "#6ece58"
            ],
            [
             0.8888888888888888,
             "#b5de2b"
            ],
            [
             1,
             "#fde725"
            ]
           ],
           "sequentialminus": [
            [
             0,
             "#440154"
            ],
            [
             0.1111111111111111,
             "#482878"
            ],
            [
             0.2222222222222222,
             "#3e4989"
            ],
            [
             0.3333333333333333,
             "#31688e"
            ],
            [
             0.4444444444444444,
             "#26828e"
            ],
            [
             0.5555555555555556,
             "#1f9e89"
            ],
            [
             0.6666666666666666,
             "#35b779"
            ],
            [
             0.7777777777777778,
             "#6ece58"
            ],
            [
             0.8888888888888888,
             "#b5de2b"
            ],
            [
             1,
             "#fde725"
            ]
           ]
          },
          "colorway": [
           "#1F77B4",
           "#FF7F0E",
           "#2CA02C",
           "#D62728",
           "#9467BD",
           "#8C564B",
           "#E377C2",
           "#7F7F7F",
           "#BCBD22",
           "#17BECF"
          ],
          "font": {
           "color": "rgb(36,36,36)"
          },
          "geo": {
           "bgcolor": "white",
           "lakecolor": "white",
           "landcolor": "white",
           "showlakes": true,
           "showland": true,
           "subunitcolor": "white"
          },
          "hoverlabel": {
           "align": "left"
          },
          "hovermode": "closest",
          "mapbox": {
           "style": "light"
          },
          "paper_bgcolor": "white",
          "plot_bgcolor": "white",
          "polar": {
           "angularaxis": {
            "gridcolor": "rgb(232,232,232)",
            "linecolor": "rgb(36,36,36)",
            "showgrid": false,
            "showline": true,
            "ticks": "outside"
           },
           "bgcolor": "white",
           "radialaxis": {
            "gridcolor": "rgb(232,232,232)",
            "linecolor": "rgb(36,36,36)",
            "showgrid": false,
            "showline": true,
            "ticks": "outside"
           }
          },
          "scene": {
           "xaxis": {
            "backgroundcolor": "white",
            "gridcolor": "rgb(232,232,232)",
            "gridwidth": 2,
            "linecolor": "rgb(36,36,36)",
            "showbackground": true,
            "showgrid": false,
            "showline": true,
            "ticks": "outside",
            "zeroline": false,
            "zerolinecolor": "rgb(36,36,36)"
           },
           "yaxis": {
            "backgroundcolor": "white",
            "gridcolor": "rgb(232,232,232)",
            "gridwidth": 2,
            "linecolor": "rgb(36,36,36)",
            "showbackground": true,
            "showgrid": false,
            "showline": true,
            "ticks": "outside",
            "zeroline": false,
            "zerolinecolor": "rgb(36,36,36)"
           },
           "zaxis": {
            "backgroundcolor": "white",
            "gridcolor": "rgb(232,232,232)",
            "gridwidth": 2,
            "linecolor": "rgb(36,36,36)",
            "showbackground": true,
            "showgrid": false,
            "showline": true,
            "ticks": "outside",
            "zeroline": false,
            "zerolinecolor": "rgb(36,36,36)"
           }
          },
          "shapedefaults": {
           "fillcolor": "black",
           "line": {
            "width": 0
           },
           "opacity": 0.3
          },
          "ternary": {
           "aaxis": {
            "gridcolor": "rgb(232,232,232)",
            "linecolor": "rgb(36,36,36)",
            "showgrid": false,
            "showline": true,
            "ticks": "outside"
           },
           "baxis": {
            "gridcolor": "rgb(232,232,232)",
            "linecolor": "rgb(36,36,36)",
            "showgrid": false,
            "showline": true,
            "ticks": "outside"
           },
           "bgcolor": "white",
           "caxis": {
            "gridcolor": "rgb(232,232,232)",
            "linecolor": "rgb(36,36,36)",
            "showgrid": false,
            "showline": true,
            "ticks": "outside"
           }
          },
          "title": {
           "x": 0.05
          },
          "xaxis": {
           "automargin": true,
           "gridcolor": "rgb(232,232,232)",
           "linecolor": "rgb(36,36,36)",
           "showgrid": false,
           "showline": true,
           "ticks": "outside",
           "title": {
            "standoff": 15
           },
           "zeroline": false,
           "zerolinecolor": "rgb(36,36,36)"
          },
          "yaxis": {
           "automargin": true,
           "gridcolor": "rgb(232,232,232)",
           "linecolor": "rgb(36,36,36)",
           "showgrid": false,
           "showline": true,
           "ticks": "outside",
           "title": {
            "standoff": 15
           },
           "zeroline": false,
           "zerolinecolor": "rgb(36,36,36)"
          }
         }
        },
        "title": {
         "text": "Chi-Squared Test (df=1, α=0.05)<br>Statistic = 3531.60, Critical = 3.84"
        },
        "xaxis": {
         "range": [
          0,
          10
         ],
         "title": {
          "text": "Chi-Squared Value"
         }
        },
        "yaxis": {
         "range": [
          0,
          2
         ],
         "title": {
          "text": "Probability Density"
         }
        }
       }
      }
     },
     "metadata": {},
     "output_type": "display_data"
    }
   ],
   "source": [
    "# Parameters\n",
    "df = degree_of_freedom\n",
    "alpha = 0.05\n",
    "chi2_stat = chi_2\n",
    "\n",
    "chi2_crit = chi2.ppf(1 - alpha, df)\n",
    "\n",
    "# x and y values for chi-squared distribution\n",
    "x = np.linspace(0, chi2.ppf(0.999, df), 500)\n",
    "y = chi2.pdf(x, df)\n",
    "\n",
    "# Create Plotly figure\n",
    "fig = go.Figure()\n",
    "\n",
    "# Add chi-squared distribution curve\n",
    "fig.add_trace(go.Scatter(x=x, y=y, mode='lines', name=f'Chi-Squared(df={df})'))\n",
    "\n",
    "# Shade rejection region (right tail)\n",
    "fig.add_trace(go.Scatter(\n",
    "    x=x[x > chi2_crit],\n",
    "    y=y[x > chi2_crit],\n",
    "    fill='tozeroy',\n",
    "    mode='none',\n",
    "    name='Rejection Region',\n",
    "    fillcolor='rgba(255,0,0,0.4)'\n",
    "))\n",
    "\n",
    "# Vertical line for test statistic (off-scale)\n",
    "fig.add_trace(go.Scatter(\n",
    "    x=[chi2_stat, chi2_stat],\n",
    "    y=[0, 0.1],  # small stub, since it's far off\n",
    "    mode='lines',\n",
    "    line=dict(color='green', dash='dash', width=2),\n",
    "    name=f'Test Statistic = {chi2_stat:.2f} (off-chart)'\n",
    "))\n",
    "\n",
    "# Vertical line for chi-squared critical value\n",
    "fig.add_trace(go.Scatter(\n",
    "    x=[chi2_crit, chi2_crit],\n",
    "    y=[0, chi2.pdf(chi2_crit, df)],\n",
    "    mode='lines',\n",
    "    line=dict(color='blue', dash='dash', width=2),\n",
    "    name=f'Chi2 Critical = {chi2_crit:.2f}'\n",
    "))\n",
    "\n",
    "# Update layout with tighter zoom & stretched y-axis\n",
    "fig.update_layout(\n",
    "    title=f'Chi-Squared Test (df={df}, α={alpha})<br>Statistic = {chi2_stat:.2f}, Critical = {chi2_crit:.2f}',\n",
    "    xaxis_title='Chi-Squared Value',\n",
    "    yaxis_title='Probability Density',\n",
    "    template='simple_white',\n",
    "    xaxis=dict(range=[0, 10]),   # zoom in around the rejection region\n",
    "    yaxis=dict(range=[0, 2.0])   # << stretch y-axis to see the peak\n",
    ")\n",
    "\n",
    "fig.show()"
   ]
  },
  {
   "cell_type": "markdown",
   "id": "fc127014",
   "metadata": {},
   "source": [
    "From the print-out, the test statistic is very large. This is a strong evidence against the null hypothesis. With the $p$-value almost zero, there is enough statistical evidence to reject $H_{0}$. Therefore, click behaviour is not independent of the texts in the buttons of the different interfaces. \n",
    "\n",
    "The chart above tries to visualize what the distribution looks like along with the rejection region. The test statistic is far off the chart indicating a strong evidence against the null hypothesis.\n",
    "\n",
    "\n",
    "### Z-Test.\n",
    "\n",
    "The z-test will help to determine if the difference between the two groups' $CTR$ is significant. Even though it does not determine the magnitude, it will give insights into the direction of the difference if null hypothesis is rejected.\n",
    "\n",
    "> Because the population's standard deviations are not known, the ideal test should have been a T-test. But because the popultion has significantly large observations, a z-test could be applied since Central Limit Theorem guarantees that the sampling distribution of the $CTR$ is approximatly normal.\n",
    "\n",
    "The procedure for conducting the test starts with stating the hypothesis. Thus:\n",
    "Let $p_{1}$ and $p_{2}$ denote the $CTR$ of the experinmental group and control group respectively then,\n",
    "\n",
    "$$\n",
    "\\begin{aligned}\n",
    "H_{0}: & \\; p_{1} - p_{2} = 0 \\\\\n",
    "H_{a}: & \\; p_{1} - p_{2} \\neq 0.\n",
    "\\end{aligned}\n",
    "$$\n",
    "\n",
    "The Test statistic $Z$ is given as:\n",
    "$$\n",
    "Z = \\frac{\\bar{p}_{1}  - \\bar{p}_{2}}{\\sqrt{\\hat{p}(1 - \\hat{p})(\\frac{1}{n_{1}} - \\frac{1}{n_{2}})}}\n",
    "$$\n",
    "\n",
    "Where:\n",
    "\n",
    "- $ \\bar{p}_{1}  \\; \\text{and} \\; \\bar{p}_{2} \\; \\text{are the estimated CTR of population }\\; 1 \\; \\text{and population}\\; 2 \\; \\text{respectively},$\n",
    "- $\\hat{p} \\;  \\text{is the pooled variance of} \\; \\bar{p}_{1}  \\; \\text{and} \\; \\bar{p}_{2} \\; \\text{given by:}\\;$\n",
    "$$\n",
    "\\hat{p} = \\frac{\\bar{p}_{1}n_{1}  + \\bar{p}_{2}n_{2}}{n_{1} + n_{2}}\n",
    "$$\n",
    "- $ n_{1}  \\; \\text{and} \\; n_{1} \\; \\text{are the sample size of population }\\; 1 \\; \\text{and}\\; 2 \\text{respectively}.$\n",
    "\n",
    "For a given $\\alpha$, the objective is to find enough statistic evidence using the sample data to reject the null hypothesis. Just like the chi-test, The $p$-value is computed and compared with $\\alpha$-value. If the $p$-value is less than $\\alpha$, the null hypothesis is rejected.\n",
    "\n",
    "To proceed with the test, the needed values stated above are computed in the next cell."
   ]
  },
  {
   "cell_type": "code",
   "execution_count": null,
   "id": "9a4f1ecc",
   "metadata": {},
   "outputs": [
    {
     "name": "stdout",
     "output_type": "stream",
     "text": [
      "Experimental Group:  10000\n",
      "Control Group:  10000\n"
     ]
    }
   ],
   "source": [
    "# define group_count() to compute the total number of observations in the two groups.\n",
    "def group_count(df: pd.DataFrame, col: str):\n",
    "    '''\n",
    "    takes a dataframe and column name. Filters the dataframe with the column name, counts the values and extracts the total number of each groups and \n",
    "    returns them. \n",
    "\n",
    "    Arguments\n",
    "    ====================================\n",
    "    df: pandas dataframe object. The dataframe to be filtered.\n",
    "    col: string object. the column name from the dataframe df to be filtered.\n",
    "    N/B: col must have only two unique groups.\n",
    "\n",
    "    Return\n",
    "    ===================================\n",
    "    Returns  the total number of each group.\n",
    "    '''\n",
    "    if len(df[col].unique()) > 2:\n",
    "        print(f'{col} has more than two groups')\n",
    "        return\n",
    "    if len(df[col].unique()) < 2:\n",
    "        print(f'{col} has less than two groups')\n",
    "        return\n",
    "    count_by_group = df[col].value_counts()\n",
    "\n",
    "    exp_group = df[col].unique()[0]\n",
    "    con_group = df[col].unique()[1]\n",
    "\n",
    "    N_exp = count_by_group.loc[exp_group]\n",
    "    N_con = count_by_group.loc[con_group]\n",
    "\n",
    "    print('Experimental Group: ', N_exp)\n",
    "    print('Control Group: ', N_con)\n",
    "\n",
    "    return N_exp, N_con\n",
    "\n",
    "N_exp, N_con = group_count(rec_sys_df, 'group')\n"
   ]
  },
  {
   "cell_type": "markdown",
   "id": "471c3b79",
   "metadata": {},
   "source": [
    "The figures above are figures that have appeared before which show that the function was well defined. In the next cell $\\bar{p}_{1}$ and $\\bar{p}_{2}$ are caculated. "
   ]
  },
  {
   "cell_type": "code",
   "execution_count": null,
   "id": "dd54d033",
   "metadata": {},
   "outputs": [
    {
     "name": "stdout",
     "output_type": "stream",
     "text": [
      "Experimental Group:  10000\n",
      "Control Group:  10000\n",
      "Control Group Sample CTR Estimate 0.1989\n",
      "Experimental Group Sample CTR Estimate 0.6116\n"
     ]
    }
   ],
   "source": [
    "def p_bar(df: pd.DataFrame, col: list):\n",
    "\n",
    "    '''\n",
    "    p_bar calculates the estimated CTR for two groups.\n",
    "\n",
    "    Arguments:\n",
    "    ==============================\n",
    "    df: A pandas dataframe containing the two groups.\n",
    "\n",
    "    col: A list object contain the name of group column and the click column.\n",
    "\n",
    "    Return:\n",
    "    returns two floating point numbers which are the estimated CTRs for the two groups.\n",
    "\n",
    "    N/B: the group must be two.\n",
    "    '''\n",
    "\n",
    "    if len(df[col[0]].unique()) > 2:\n",
    "        print(f'{col} has more than two groups')\n",
    "        return\n",
    "    if len(df[col[0]].unique()) < 2:\n",
    "        print(f'{col} has less than two groups')\n",
    "        return\n",
    "\n",
    "    N_exp, N_con = group_count(rec_sys_df, col[0])\n",
    "    \n",
    "    total_clicks_by_group = df.groupby(col[0], sort=False)[col[1]].sum()\n",
    "    groups = total_clicks_by_group.index.tolist()\n",
    "    exp_group = groups[0]\n",
    "    con_group = groups[1]\n",
    "    p_bar_con = total_clicks_by_group.loc[con_group] / N_con\n",
    "    p_bar_exp = total_clicks_by_group.loc[exp_group] / N_exp\n",
    "\n",
    "    print(f'Control Group Sample CTR Estimate {(p_bar_con)}')\n",
    "    print(f'Experimental Group Sample CTR Estimate {(p_bar_exp)}')\n",
    "\n",
    "    return p_bar_con, p_bar_exp\n",
    "\n",
    "p_bar_con, p_bar_exp = p_bar(rec_sys_df, ['group', 'click'])\n"
   ]
  },
  {
   "cell_type": "markdown",
   "id": "25ffa491",
   "metadata": {},
   "source": [
    "The estimated $CTR$ for the two groups are displayed above. The experiment group has a higher $CTR$ compaired to the control group as seen before. \n",
    "\n",
    "Just to justify the use of z-test, in the next cell a function that will check if the two populations are approximately normal is defined. \n",
    "> If the sampling distributions of the estimated CTRs are approximately normal, it can easily be shown that the sampling distribution of their difference is also normal. The proof is beyound the scope of this study."
   ]
  },
  {
   "cell_type": "code",
   "execution_count": null,
   "id": "401855fe",
   "metadata": {},
   "outputs": [
    {
     "name": "stdout",
     "output_type": "stream",
     "text": [
      "The Sampling Distribution of The Control Group is Approximately Normal\n",
      "The Sampling Distribution of The Experiment Group is Approximately Normal\n"
     ]
    }
   ],
   "source": [
    "def group_normality_test(group_con_num: int, group_exp_num: int, group_con_CTR: float, group_exp_CTR: float):\n",
    "    '''\n",
    "    group_normality_test takes normality of two groups.\n",
    "\n",
    "    Arguments:\n",
    "    =============================\n",
    "    group_con_num: int object of the first group.\n",
    "    group_exp_num: int object of the second group.\n",
    "    group_con_CTR: float object of the first group.\n",
    "    group_exp_CTR: float object of the exp group.\n",
    "    '''\n",
    "    group_con_success_count = group_con_num * group_con_CTR\n",
    "    group_con_fail_count = group_con_num * (1 - group_con_CTR)\n",
    "\n",
    "    group_exp_success_count = group_exp_num * group_exp_CTR\n",
    "    group_exp_fail_count = group_exp_num * (1 - group_exp_CTR)\n",
    "\n",
    "    if group_con_success_count >= 5 and group_con_fail_count >= 5:\n",
    "        print('The Sampling Distribution of The Control Group is Approximately Normal')\n",
    "    else:\n",
    "        print('The Sampling Distribution of The Control Group is Approximately Normal')\n",
    "\n",
    "    if group_exp_success_count >= 5 and group_exp_fail_count >= 5:\n",
    "        print('The Sampling Distribution of The Experiment Group is Approximately Normal')\n",
    "    else:\n",
    "        print('The Sampling Distribution of The Experiment Group is Approximately Normal')\n",
    "\n",
    "group_normality_test(N_con, N_exp, p_bar_con, p_bar_exp)"
   ]
  },
  {
   "cell_type": "markdown",
   "id": "97a44aa2",
   "metadata": {},
   "source": [
    "Now, it is safe to assume that the sampling distribution of the point estimator of difference between the experiment group $CTR$ and the control group $CTR$ is approximtely normal.\n",
    "\n",
    "In the next cell, the point estimator of the difference between the groups $CTRs$ and the pooled variance using the formulars stated above."
   ]
  },
  {
   "cell_type": "code",
   "execution_count": null,
   "id": "e7326358",
   "metadata": {},
   "outputs": [
    {
     "name": "stdout",
     "output_type": "stream",
     "text": [
      "point estimator of the difference between exp group and con group:  0.41\n",
      "pooled variance:  0.40525\n"
     ]
    }
   ],
   "source": [
    "# subtract the CTR of the experiment group from the CTR of the Control group \n",
    "point_est_of_the_diff_btn_con_and_exp = p_bar_exp - p_bar_con\n",
    "print(f'point estimator of the difference between exp group and con group:  {point_est_of_the_diff_btn_con_and_exp:.2f}')\n",
    "\n",
    "# calculate the pooled variance, the p_hat\n",
    "pooled_point_estimate = ((N_con * p_bar_con) + (N_exp * p_bar_exp))/(N_con + N_exp)\n",
    "print('pooled variance: ', pooled_point_estimate)"
   ]
  },
  {
   "cell_type": "markdown",
   "id": "5f874efb",
   "metadata": {},
   "source": [
    "The point estimator for the diference between the two groups is approximately $0.41$ while the pooled variance is $0.40525$. The standard error and the z_statistic is computed in the next cell."
   ]
  },
  {
   "cell_type": "code",
   "execution_count": null,
   "id": "d3b572ad",
   "metadata": {},
   "outputs": [
    {
     "name": "stdout",
     "output_type": "stream",
     "text": [
      "standard error: 0.0069 z_statistic: 59.4416\n"
     ]
    }
   ],
   "source": [
    "# Standard error using the above formular\n",
    "standard_error = np.sqrt(pooled_point_estimate*(1-pooled_point_estimate)*((1/N_con)+(1/N_exp)))\n",
    "\n",
    "# z_statistic using the above stated formular\n",
    "z_statistic = point_est_of_the_diff_btn_con_and_exp/standard_error\n",
    "print(f'standard error: {standard_error:.4f}',f'z_statistic: {z_statistic:.4f}')"
   ]
  },
  {
   "cell_type": "markdown",
   "id": "2f1145bf",
   "metadata": {},
   "source": [
    "$59.4416$ is somewhat an inflated value for a z-test statistic. This is due to the very low value of the standard error. This is already suggesting that the null hypothesis may be rejected. The $p$-value is computed in the next cell."
   ]
  },
  {
   "cell_type": "code",
   "execution_count": null,
   "id": "8f1343c4",
   "metadata": {},
   "outputs": [
    {
     "name": "stdout",
     "output_type": "stream",
     "text": [
      "p-value:  0.0\n"
     ]
    }
   ],
   "source": [
    "# since it is a two-way test, the p-value test for one tailed test is doubled.\n",
    "p_value = 2 * norm.sf(abs(z_statistic))\n",
    "print('p-value: ', p_value)"
   ]
  },
  {
   "cell_type": "code",
   "execution_count": null,
   "id": "af606153",
   "metadata": {},
   "outputs": [
    {
     "data": {
      "application/vnd.plotly.v1+json": {
       "config": {
        "plotlyServerURL": "https://plot.ly"
       },
       "data": [
        {
         "mode": "lines",
         "name": "Standard Normal Distribution",
         "type": "scatter",
         "x": {
          "bdata": "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",
          "dtype": "f8"
         },
         "y": {
          "bdata": "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",
          "dtype": "f8"
         }
        },
        {
         "fill": "tozeroy",
         "fillcolor": "rgba(255,0,0,0.4)",
         "mode": "none",
         "name": "Rejection Region",
         "type": "scatter",
         "x": {
          "bdata": "AAAAAAAACMBkSpXvX+cHwMeUKt+/zgfAK9+/zh+2B8COKVW+f50HwPJz6q3fhAfAVb5/nT9sB8C5CBWNn1MHwBxTqnz/OgfAgJ0/bF8iB8Dj59RbvwkHwEcyaksf8QbAqnz/On/YBsAOx5Qq378GwHERKho/pwbA1Vu/CZ+OBsA4plT5/nUGwJzw6eheXQbAADt/2L5EBsBjhRTIHiwGwMfPqbd+EwbAKho/p976BcCOZNSWPuIFwPGuaYaeyQXAVfn+df6wBcC4Q5RlXpgFwByOKVW+fwXAf9i+RB5nBcDjIlQ0fk4FwEZt6SPeNQXAqrd+Ez4dBcANAhQDngQFwHFMqfL96wTA1JY+4l3TBMA44dPRvboEwJwracEdogTA/3X+sH2JBMBiwJOg3XAEwMYKKZA9WATAKlW+f50/BMCNn1Nv/SYEwPHp6F5dDgTAVDR+Tr31A8C4fhM+Hd0DwBvJqC19xAPAfxM+Hd2rA8DiXdMMPZMDwEaoaPycegPAqfL96/xhA8ANPZPbXEkDwHCHKMu8MAPA1NG9uhwYA8A4HFOqfP8CwJtm6Jnc5gLA/rB9iTzOAsBi+xJ5nLUCwMZFqGj8nALAKZA9WFyEAsCM2tJHvGsCwPAkaDccUwLAVG/9Jnw6AsC3uZIW3CECwBsEKAY8CQLAfk699ZvwAcDimFLl+9cBwEXj59RbvwHAqS19xLumAcAMeBK0G44BwHDCp6N7dQHA1Aw9k9tcAcA3V9KCO0QBwJqhZ3KbKwHA/uv8YfsSAcBiNpJRW/oAwMWAJ0G74QDAKMu8MBvJAMCMFVIge7AAwPBf5w/blwDAU6p8/zp/AMC39BHvmmYAwBo/p976TQDAfok8zlo1AMDh09G9uhwAwEUeZ60aBADAUdH4OfXW/78YZiMZtaX/v9/6Tfh0dP+/",
          "dtype": "f8"
         },
         "y": {
          "bdata": "iXbXPyEncj8mcQFCedFyPzDk/+tWgXM/pO7el+A2dD8uNzRhPfJ0P+xMQyaVs3U/I/gHiRB7dj8iTCXw2Eh3P6xJuIcYHXg/LtwMQvr3eD9Q+jPYqdl5P6utecpTwno/2sS5YCWyez857pGqTKl8P/X5b3/4p30/a/16fliufj/GE1YOnbx/Pzm5Xa57aYA/kkX3rsz4gD/T+AHmWoyBP1De/hJAJII/6oxdV5bAgj8T5tw1eGGDPyUn1JEAB4Q/bqljrkqxhD/0r4wtcmCFP3uhLw+TFIY/TBDwr8nNhj9e8f3HMoyHP9Fnw2nrT4g/S4p2ABEZiT+mi45OweeJP2SxG2wavIo/8oYBxTqWiz8ZvhIXQXaMPx0yDnBMXI0/OoV8K3xIjj8W1W3w7zqPP2WDi9fjGZA/qhcnz5GZkD8q0XIckhyRP/Oach31opE/MKhQT8sskj99rNdMJbqSP0mW28wTS5M/qZ2QoKffkz+5ftCx8XeUP424TQEDFJU/6q60pOyzlT8bj7rEv1eWP3jdGZuN/5Y/GJR8cGerlz9ZwFOaXluYP0+QnHiED5k/EMaSc+rHmT+zi1D5oYSaP+mmW3u8RZs/dBAgbEsLnD9/+Fc8YNWcP0pGYVgMpJ0/uaaAJWF3nj9ZQhL/b0+fP9Yc1BklFqA/6YULgQCHoD+GCDjLUvqgP6QcdYMkcKE/7KFcKH7ooT9t1mkqaGOiP3zIU+rq4KI/nmhftw5hoz8IYqnN2+OjP4XkZ1RaaaQ/c40kXJLxpD+zoO7ci3ylP+LFhbROCqY/YYF9pOKapj9VpFlQTy6nP8PxozucxKc/nTr7x9BdqD+NNRwz9PmoP8Jb5JQNmak/hBVP3SM7qj8Uh23SPeCqP3dPWQ5iiKs/GZAi/ZYzrD8Ilrna4uGsPwaC1LBLk60/",
          "dtype": "f8"
         }
        },
        {
         "fill": "tozeroy",
         "fillcolor": "rgba(255,0,0,0.4)",
         "mode": "none",
         "showlegend": false,
         "type": "scatter",
         "x": {
          "bdata": "4PpN+HR0/z8YZiMZtaX/P1DR+Dn11v8/RB5nrRoEAEDi09G9uhwAQH6JPM5aNQBAGj+n3vpNAEC29BHvmmYAQFKqfP86fwBA8F/nD9uXAECMFVIge7AAQCjLvDAbyQBAxIAnQbvhAEBiNpJRW/oAQP7r/GH7EgFAmqFncpsrAUA2V9KCO0QBQNQMPZPbXAFAcMKno3t1AUAMeBK0G44BQKgtfcS7pgFARuPn1Fu/AUDimFLl+9cBQH5OvfWb8AFAGgQoBjwJAkC4uZIW3CECQFRv/SZ8OgJA8CRoNxxTAkCM2tJHvGsCQCiQPVhchAJAxkWoaPycAkBi+xJ5nLUCQP6wfYk8zgJAmmbomdzmAkA4HFOqfP8CQNTRvbocGANAcIcoy7wwA0AMPZPbXEkDQKry/ev8YQNARqho/Jx6A0DiXdMMPZMDQH4TPh3dqwNAHMmoLX3EA0C4fhM+Hd0DQFQ0fk699QNA8OnoXl0OBECMn1Nv/SYEQCpVvn+dPwRAxgopkD1YBEBiwJOg3XAEQP51/rB9iQRAnCtpwR2iBEA44dPRvboEQNSWPuJd0wRAcEyp8v3rBEAOAhQDngQFQKq3fhM+HQVARm3pI941BUDiIlQ0fk4FQIDYvkQeZwVAHI4pVb5/BUC4Q5RlXpgFQFT5/nX+sAVA8K5php7JBUCOZNSWPuIFQCoaP6fe+gVAxs+pt34TBkBihRTIHiwGQAA7f9i+RAZAnPDp6F5dBkA4plT5/nUGQNRbvwmfjgZAchEqGj+nBkAOx5Qq378GQKp8/zp/2AZARjJqSx/xBkDk59RbvwkHQICdP2xfIgdAHFOqfP86B0C4CBWNn1MHQFa+f50/bAdA8nPqrd+EB0COKVW+f50HQCrfv84ftgdAxpQq37/OB0BkSpXvX+cHQAAAAAAAAAhA",
          "dtype": "f8"
         },
         "y": {
          "bdata": "AYLUsEuTrT8Ilrna4uGsPx6QIv2WM6w/fU9ZDmKIqz8Nh23SPeCqP4QVT90jO6o/wlvklA2ZqT+UNRwz9PmoP6M6+8fQXag/w/GjO5zEpz9VpFlQTy6nP2GBfaTimqY/58WFtE4Kpj+zoO7ci3ylP3ONJFyS8aQ/heRnVFpppD8MYqnN2+OjP55oX7cOYaM/fMhT6urgoj9t1mkqaGOiP/OhXCh+6KE/nRx1gyRwoT+GCDjLUvqgP+mFC4EAh6A/2hzUGSUWoD9RQhL/b0+fP7mmgCVhd54/SkZhWAyknT9/+Fc8YNWcP30QIGxLC5w/6aZbe7xFmz+zi1D5oYSaPxDGknPqx5k/VpCceIQPmT9ZwFOaXluYPxiUfHBnq5c/eN0Zm43/lj8jj7rEv1eWP+WutKTss5U/jbhNAQMUlT+5ftCx8XeUP7GdkKCn35M/RJbbzBNLkz99rNdMJbqSPzCoUE/LLJI/+ppyHfWikT8w0XIckhyRP6oXJ8+RmZA/ZYOL1+MZkD8W1W3w7zqPP0WFfCt8SI4/HTIOcExcjT8ZvhIXQXaMP/KGAcU6los/arEbbBq8ij+di45OweeJP0uKdgARGYk/0WfDaetPiD9k8f3HMoyHP0YQ8K/JzYY/e6EvD5MUhj/0r4wtcmCFP3apY65KsYQ/KifUkQAHhD8T5tw1eGGDP+qMXVeWwII/V97+EkAkgj/a+AHmWoyBP5JF967M+IA/ObldrntpgD/GE1YOnbx/P3b9en5Yrn4/5vlvf/infT857pGqTKl8P9rEuWAlsns/sq15ylPCej9K+jPYqdl5Py7cDEL693g/rEm4hxgdeD8nTCXw2Eh3Pxj4B4kQe3Y/7ExDJpWzdT8uNzRhPfJ0P6/u3pfgNnQ/NeT/61aBcz8mcQFCedFyP4l21z8hJ3I/",
          "dtype": "f8"
         }
        },
        {
         "line": {
          "color": "green",
          "dash": "dash",
          "width": 2
         },
         "mode": "lines",
         "name": "Test Statistic = 59.44",
         "type": "scatter",
         "x": [
          59.44163326469381,
          59.44163326469381
         ],
         "y": [
          0,
          0.4
         ]
        },
        {
         "line": {
          "color": "blue",
          "dash": "dash"
         },
         "mode": "lines",
         "name": "Z-critical = ±1.96",
         "type": "scatter",
         "x": [
          1.959963984540054,
          1.959963984540054
         ],
         "y": [
          0,
          0.4
         ]
        },
        {
         "line": {
          "color": "blue",
          "dash": "dash"
         },
         "mode": "lines",
         "showlegend": false,
         "type": "scatter",
         "x": [
          -1.959963984540054,
          -1.959963984540054
         ],
         "y": [
          0,
          0.4
         ]
        }
       ],
       "layout": {
        "legend": {
         "x": 0.4,
         "y": 0.99
        },
        "template": {
         "data": {
          "bar": [
           {
            "error_x": {
             "color": "rgb(36,36,36)"
            },
            "error_y": {
             "color": "rgb(36,36,36)"
            },
            "marker": {
             "line": {
              "color": "white",
              "width": 0.5
             },
             "pattern": {
              "fillmode": "overlay",
              "size": 10,
              "solidity": 0.2
             }
            },
            "type": "bar"
           }
          ],
          "barpolar": [
           {
            "marker": {
             "line": {
              "color": "white",
              "width": 0.5
             },
             "pattern": {
              "fillmode": "overlay",
              "size": 10,
              "solidity": 0.2
             }
            },
            "type": "barpolar"
           }
          ],
          "carpet": [
           {
            "aaxis": {
             "endlinecolor": "rgb(36,36,36)",
             "gridcolor": "white",
             "linecolor": "white",
             "minorgridcolor": "white",
             "startlinecolor": "rgb(36,36,36)"
            },
            "baxis": {
             "endlinecolor": "rgb(36,36,36)",
             "gridcolor": "white",
             "linecolor": "white",
             "minorgridcolor": "white",
             "startlinecolor": "rgb(36,36,36)"
            },
            "type": "carpet"
           }
          ],
          "choropleth": [
           {
            "colorbar": {
             "outlinewidth": 1,
             "tickcolor": "rgb(36,36,36)",
             "ticks": "outside"
            },
            "type": "choropleth"
           }
          ],
          "contour": [
           {
            "colorbar": {
             "outlinewidth": 1,
             "tickcolor": "rgb(36,36,36)",
             "ticks": "outside"
            },
            "colorscale": [
             [
              0,
              "#440154"
             ],
             [
              0.1111111111111111,
              "#482878"
             ],
             [
              0.2222222222222222,
              "#3e4989"
             ],
             [
              0.3333333333333333,
              "#31688e"
             ],
             [
              0.4444444444444444,
              "#26828e"
             ],
             [
              0.5555555555555556,
              "#1f9e89"
             ],
             [
              0.6666666666666666,
              "#35b779"
             ],
             [
              0.7777777777777778,
              "#6ece58"
             ],
             [
              0.8888888888888888,
              "#b5de2b"
             ],
             [
              1,
              "#fde725"
             ]
            ],
            "type": "contour"
           }
          ],
          "contourcarpet": [
           {
            "colorbar": {
             "outlinewidth": 1,
             "tickcolor": "rgb(36,36,36)",
             "ticks": "outside"
            },
            "type": "contourcarpet"
           }
          ],
          "heatmap": [
           {
            "colorbar": {
             "outlinewidth": 1,
             "tickcolor": "rgb(36,36,36)",
             "ticks": "outside"
            },
            "colorscale": [
             [
              0,
              "#440154"
             ],
             [
              0.1111111111111111,
              "#482878"
             ],
             [
              0.2222222222222222,
              "#3e4989"
             ],
             [
              0.3333333333333333,
              "#31688e"
             ],
             [
              0.4444444444444444,
              "#26828e"
             ],
             [
              0.5555555555555556,
              "#1f9e89"
             ],
             [
              0.6666666666666666,
              "#35b779"
             ],
             [
              0.7777777777777778,
              "#6ece58"
             ],
             [
              0.8888888888888888,
              "#b5de2b"
             ],
             [
              1,
              "#fde725"
             ]
            ],
            "type": "heatmap"
           }
          ],
          "histogram": [
           {
            "marker": {
             "line": {
              "color": "white",
              "width": 0.6
             }
            },
            "type": "histogram"
           }
          ],
          "histogram2d": [
           {
            "colorbar": {
             "outlinewidth": 1,
             "tickcolor": "rgb(36,36,36)",
             "ticks": "outside"
            },
            "colorscale": [
             [
              0,
              "#440154"
             ],
             [
              0.1111111111111111,
              "#482878"
             ],
             [
              0.2222222222222222,
              "#3e4989"
             ],
             [
              0.3333333333333333,
              "#31688e"
             ],
             [
              0.4444444444444444,
              "#26828e"
             ],
             [
              0.5555555555555556,
              "#1f9e89"
             ],
             [
              0.6666666666666666,
              "#35b779"
             ],
             [
              0.7777777777777778,
              "#6ece58"
             ],
             [
              0.8888888888888888,
              "#b5de2b"
             ],
             [
              1,
              "#fde725"
             ]
            ],
            "type": "histogram2d"
           }
          ],
          "histogram2dcontour": [
           {
            "colorbar": {
             "outlinewidth": 1,
             "tickcolor": "rgb(36,36,36)",
             "ticks": "outside"
            },
            "colorscale": [
             [
              0,
              "#440154"
             ],
             [
              0.1111111111111111,
              "#482878"
             ],
             [
              0.2222222222222222,
              "#3e4989"
             ],
             [
              0.3333333333333333,
              "#31688e"
             ],
             [
              0.4444444444444444,
              "#26828e"
             ],
             [
              0.5555555555555556,
              "#1f9e89"
             ],
             [
              0.6666666666666666,
              "#35b779"
             ],
             [
              0.7777777777777778,
              "#6ece58"
             ],
             [
              0.8888888888888888,
              "#b5de2b"
             ],
             [
              1,
              "#fde725"
             ]
            ],
            "type": "histogram2dcontour"
           }
          ],
          "mesh3d": [
           {
            "colorbar": {
             "outlinewidth": 1,
             "tickcolor": "rgb(36,36,36)",
             "ticks": "outside"
            },
            "type": "mesh3d"
           }
          ],
          "parcoords": [
           {
            "line": {
             "colorbar": {
              "outlinewidth": 1,
              "tickcolor": "rgb(36,36,36)",
              "ticks": "outside"
             }
            },
            "type": "parcoords"
           }
          ],
          "pie": [
           {
            "automargin": true,
            "type": "pie"
           }
          ],
          "scatter": [
           {
            "fillpattern": {
             "fillmode": "overlay",
             "size": 10,
             "solidity": 0.2
            },
            "type": "scatter"
           }
          ],
          "scatter3d": [
           {
            "line": {
             "colorbar": {
              "outlinewidth": 1,
              "tickcolor": "rgb(36,36,36)",
              "ticks": "outside"
             }
            },
            "marker": {
             "colorbar": {
              "outlinewidth": 1,
              "tickcolor": "rgb(36,36,36)",
              "ticks": "outside"
             }
            },
            "type": "scatter3d"
           }
          ],
          "scattercarpet": [
           {
            "marker": {
             "colorbar": {
              "outlinewidth": 1,
              "tickcolor": "rgb(36,36,36)",
              "ticks": "outside"
             }
            },
            "type": "scattercarpet"
           }
          ],
          "scattergeo": [
           {
            "marker": {
             "colorbar": {
              "outlinewidth": 1,
              "tickcolor": "rgb(36,36,36)",
              "ticks": "outside"
             }
            },
            "type": "scattergeo"
           }
          ],
          "scattergl": [
           {
            "marker": {
             "colorbar": {
              "outlinewidth": 1,
              "tickcolor": "rgb(36,36,36)",
              "ticks": "outside"
             }
            },
            "type": "scattergl"
           }
          ],
          "scattermap": [
           {
            "marker": {
             "colorbar": {
              "outlinewidth": 1,
              "tickcolor": "rgb(36,36,36)",
              "ticks": "outside"
             }
            },
            "type": "scattermap"
           }
          ],
          "scattermapbox": [
           {
            "marker": {
             "colorbar": {
              "outlinewidth": 1,
              "tickcolor": "rgb(36,36,36)",
              "ticks": "outside"
             }
            },
            "type": "scattermapbox"
           }
          ],
          "scatterpolar": [
           {
            "marker": {
             "colorbar": {
              "outlinewidth": 1,
              "tickcolor": "rgb(36,36,36)",
              "ticks": "outside"
             }
            },
            "type": "scatterpolar"
           }
          ],
          "scatterpolargl": [
           {
            "marker": {
             "colorbar": {
              "outlinewidth": 1,
              "tickcolor": "rgb(36,36,36)",
              "ticks": "outside"
             }
            },
            "type": "scatterpolargl"
           }
          ],
          "scatterternary": [
           {
            "marker": {
             "colorbar": {
              "outlinewidth": 1,
              "tickcolor": "rgb(36,36,36)",
              "ticks": "outside"
             }
            },
            "type": "scatterternary"
           }
          ],
          "surface": [
           {
            "colorbar": {
             "outlinewidth": 1,
             "tickcolor": "rgb(36,36,36)",
             "ticks": "outside"
            },
            "colorscale": [
             [
              0,
              "#440154"
             ],
             [
              0.1111111111111111,
              "#482878"
             ],
             [
              0.2222222222222222,
              "#3e4989"
             ],
             [
              0.3333333333333333,
              "#31688e"
             ],
             [
              0.4444444444444444,
              "#26828e"
             ],
             [
              0.5555555555555556,
              "#1f9e89"
             ],
             [
              0.6666666666666666,
              "#35b779"
             ],
             [
              0.7777777777777778,
              "#6ece58"
             ],
             [
              0.8888888888888888,
              "#b5de2b"
             ],
             [
              1,
              "#fde725"
             ]
            ],
            "type": "surface"
           }
          ],
          "table": [
           {
            "cells": {
             "fill": {
              "color": "rgb(237,237,237)"
             },
             "line": {
              "color": "white"
             }
            },
            "header": {
             "fill": {
              "color": "rgb(217,217,217)"
             },
             "line": {
              "color": "white"
             }
            },
            "type": "table"
           }
          ]
         },
         "layout": {
          "annotationdefaults": {
           "arrowhead": 0,
           "arrowwidth": 1
          },
          "autotypenumbers": "strict",
          "coloraxis": {
           "colorbar": {
            "outlinewidth": 1,
            "tickcolor": "rgb(36,36,36)",
            "ticks": "outside"
           }
          },
          "colorscale": {
           "diverging": [
            [
             0,
             "rgb(103,0,31)"
            ],
            [
             0.1,
             "rgb(178,24,43)"
            ],
            [
             0.2,
             "rgb(214,96,77)"
            ],
            [
             0.3,
             "rgb(244,165,130)"
            ],
            [
             0.4,
             "rgb(253,219,199)"
            ],
            [
             0.5,
             "rgb(247,247,247)"
            ],
            [
             0.6,
             "rgb(209,229,240)"
            ],
            [
             0.7,
             "rgb(146,197,222)"
            ],
            [
             0.8,
             "rgb(67,147,195)"
            ],
            [
             0.9,
             "rgb(33,102,172)"
            ],
            [
             1,
             "rgb(5,48,97)"
            ]
           ],
           "sequential": [
            [
             0,
             "#440154"
            ],
            [
             0.1111111111111111,
             "#482878"
            ],
            [
             0.2222222222222222,
             "#3e4989"
            ],
            [
             0.3333333333333333,
             "#31688e"
            ],
            [
             0.4444444444444444,
             "#26828e"
            ],
            [
             0.5555555555555556,
             "#1f9e89"
            ],
            [
             0.6666666666666666,
             "#35b779"
            ],
            [
             0.7777777777777778,
             "#6ece58"
            ],
            [
             0.8888888888888888,
             "#b5de2b"
            ],
            [
             1,
             "#fde725"
            ]
           ],
           "sequentialminus": [
            [
             0,
             "#440154"
            ],
            [
             0.1111111111111111,
             "#482878"
            ],
            [
             0.2222222222222222,
             "#3e4989"
            ],
            [
             0.3333333333333333,
             "#31688e"
            ],
            [
             0.4444444444444444,
             "#26828e"
            ],
            [
             0.5555555555555556,
             "#1f9e89"
            ],
            [
             0.6666666666666666,
             "#35b779"
            ],
            [
             0.7777777777777778,
             "#6ece58"
            ],
            [
             0.8888888888888888,
             "#b5de2b"
            ],
            [
             1,
             "#fde725"
            ]
           ]
          },
          "colorway": [
           "#1F77B4",
           "#FF7F0E",
           "#2CA02C",
           "#D62728",
           "#9467BD",
           "#8C564B",
           "#E377C2",
           "#7F7F7F",
           "#BCBD22",
           "#17BECF"
          ],
          "font": {
           "color": "rgb(36,36,36)"
          },
          "geo": {
           "bgcolor": "white",
           "lakecolor": "white",
           "landcolor": "white",
           "showlakes": true,
           "showland": true,
           "subunitcolor": "white"
          },
          "hoverlabel": {
           "align": "left"
          },
          "hovermode": "closest",
          "mapbox": {
           "style": "light"
          },
          "paper_bgcolor": "white",
          "plot_bgcolor": "white",
          "polar": {
           "angularaxis": {
            "gridcolor": "rgb(232,232,232)",
            "linecolor": "rgb(36,36,36)",
            "showgrid": false,
            "showline": true,
            "ticks": "outside"
           },
           "bgcolor": "white",
           "radialaxis": {
            "gridcolor": "rgb(232,232,232)",
            "linecolor": "rgb(36,36,36)",
            "showgrid": false,
            "showline": true,
            "ticks": "outside"
           }
          },
          "scene": {
           "xaxis": {
            "backgroundcolor": "white",
            "gridcolor": "rgb(232,232,232)",
            "gridwidth": 2,
            "linecolor": "rgb(36,36,36)",
            "showbackground": true,
            "showgrid": false,
            "showline": true,
            "ticks": "outside",
            "zeroline": false,
            "zerolinecolor": "rgb(36,36,36)"
           },
           "yaxis": {
            "backgroundcolor": "white",
            "gridcolor": "rgb(232,232,232)",
            "gridwidth": 2,
            "linecolor": "rgb(36,36,36)",
            "showbackground": true,
            "showgrid": false,
            "showline": true,
            "ticks": "outside",
            "zeroline": false,
            "zerolinecolor": "rgb(36,36,36)"
           },
           "zaxis": {
            "backgroundcolor": "white",
            "gridcolor": "rgb(232,232,232)",
            "gridwidth": 2,
            "linecolor": "rgb(36,36,36)",
            "showbackground": true,
            "showgrid": false,
            "showline": true,
            "ticks": "outside",
            "zeroline": false,
            "zerolinecolor": "rgb(36,36,36)"
           }
          },
          "shapedefaults": {
           "fillcolor": "black",
           "line": {
            "width": 0
           },
           "opacity": 0.3
          },
          "ternary": {
           "aaxis": {
            "gridcolor": "rgb(232,232,232)",
            "linecolor": "rgb(36,36,36)",
            "showgrid": false,
            "showline": true,
            "ticks": "outside"
           },
           "baxis": {
            "gridcolor": "rgb(232,232,232)",
            "linecolor": "rgb(36,36,36)",
            "showgrid": false,
            "showline": true,
            "ticks": "outside"
           },
           "bgcolor": "white",
           "caxis": {
            "gridcolor": "rgb(232,232,232)",
            "linecolor": "rgb(36,36,36)",
            "showgrid": false,
            "showline": true,
            "ticks": "outside"
           }
          },
          "title": {
           "x": 0.05
          },
          "xaxis": {
           "automargin": true,
           "gridcolor": "rgb(232,232,232)",
           "linecolor": "rgb(36,36,36)",
           "showgrid": false,
           "showline": true,
           "ticks": "outside",
           "title": {
            "standoff": 15
           },
           "zeroline": false,
           "zerolinecolor": "rgb(36,36,36)"
          },
          "yaxis": {
           "automargin": true,
           "gridcolor": "rgb(232,232,232)",
           "linecolor": "rgb(36,36,36)",
           "showgrid": false,
           "showline": true,
           "ticks": "outside",
           "title": {
            "standoff": 15
           },
           "zeroline": false,
           "zerolinecolor": "rgb(36,36,36)"
          }
         }
        },
        "title": {
         "text": "Gaussian Distribution with Rejection Region<br>(A/B Testing for LunarTech CTA Button)"
        },
        "xaxis": {
         "title": {
          "text": "Z-value"
         }
        },
        "yaxis": {
         "range": [
          0,
          0.55
         ],
         "title": {
          "text": "Probability Density"
         }
        }
       }
      }
     },
     "metadata": {},
     "output_type": "display_data"
    }
   ],
   "source": [
    "# Parameters needed for the plot\n",
    "mu = 0 # the mean of a standard normal distribution\n",
    "sigma = 1 # the standard deviation of a standard normal distribution\n",
    "alpha = 0.05 # the given alpha value for the test\n",
    "Z_crit = norm.ppf(1 - alpha / 2) # the boundary of the rejection regions\n",
    "Test_stat = z_statistic  # the computed test statistic\n",
    "\n",
    "# x and y values for normal distribution\n",
    "x = np.linspace(mu - 3*sigma, mu + 3*sigma, 500)\n",
    "y = norm.pdf(x, mu, sigma)\n",
    "\n",
    "# Create a plotly graphic object\n",
    "fig = go.Figure()\n",
    "\n",
    "# Add the standard normal curve to the graphic object\n",
    "fig.add_trace(go.Scatter(x=x, y=y, mode='lines', name='Standard Normal Distribution'))\n",
    "\n",
    "# add and shade the left side rejection region (left)\n",
    "fig.add_trace(go.Scatter(\n",
    "    x=x[x < -Z_crit],\n",
    "    y=y[x < -Z_crit],\n",
    "    fill='tozeroy',\n",
    "    mode='none',\n",
    "    name='Rejection Region',\n",
    "    fillcolor='rgba(255,0,0,0.4)'\n",
    "))\n",
    "\n",
    "# add and shade the left side rejection region (left)\n",
    "fig.add_trace(go.Scatter(\n",
    "    x=x[x > Z_crit],\n",
    "    y=y[x > Z_crit],\n",
    "    fill='tozeroy',\n",
    "    mode='none',\n",
    "    fillcolor='rgba(255,0,0,0.4)',\n",
    "    showlegend=False\n",
    "))\n",
    "\n",
    "# Long vertical line for test statistic\n",
    "fig.add_trace(go.Scatter(\n",
    "    x=[Test_stat, Test_stat],\n",
    "    y=[0, 0.4],  # Stretches the line vartically\n",
    "    mode='lines',\n",
    "    line=dict(color='green', dash='dash', width=2),\n",
    "    name=f'Test Statistic = {Test_stat:.2f}'\n",
    "))\n",
    "\n",
    "#  the rejection region boundary (Z-critical lines, right)\n",
    "fig.add_trace(go.Scatter(\n",
    "    x=[Z_crit, Z_crit],\n",
    "    y=[0, 0.4],\n",
    "    mode='lines',\n",
    "    line=dict(color='blue', dash='dash'),\n",
    "    name=f'Z-critical = ±{Z_crit:.2f}'\n",
    "))\n",
    "\n",
    "#  the rejection region boundary (Z-critical lines, left)\n",
    "fig.add_trace(go.Scatter(\n",
    "    x=[-Z_crit, -Z_crit],\n",
    "    y=[0, 0.4],\n",
    "    mode='lines',\n",
    "    line=dict(color='blue', dash='dash'),\n",
    "    showlegend=False\n",
    "))\n",
    "\n",
    "# Update layout (extend y-axis)\n",
    "fig.update_layout(\n",
    "    title='Gaussian Distribution with Rejection Region<br>(A/B Testing for LunarTech CTA Button)',\n",
    "    xaxis_title='Z-value',\n",
    "    yaxis_title='Probability Density',\n",
    "    yaxis=dict(range=[0, 0.55]),  # Extend y-axis range\n",
    "    legend=dict(x=0.4, y=0.99),\n",
    "    template='simple_white'\n",
    ")\n",
    "\n",
    "fig.show()\n"
   ]
  },
  {
   "cell_type": "markdown",
   "id": "efeedef6",
   "metadata": {},
   "source": [
    "From the plot above, one can easily see how far the test statistic is on the right rejection region of standard normal plot. This is a enough statistical evidence against the null hypothesis.\n",
    "\n",
    "In the cell below, a function that uses the $p$-value to validate the test is defined."
   ]
  },
  {
   "cell_type": "code",
   "execution_count": null,
   "id": "0b60b482",
   "metadata": {},
   "outputs": [
    {
     "name": "stdout",
     "output_type": "stream",
     "text": [
      "With an alpha value of 0.05 and a p_value of 0.0, \n",
      "there is enough statistic evdvidence to reject the null hypothesis\n"
     ]
    }
   ],
   "source": [
    "def z_test_validator(alpha, p_value):\n",
    "    '''z_test_validator test is used to validate z_test by comparing the p_value with the alpha value.\n",
    "\n",
    "    Arguments:\n",
    "    =============================\n",
    "    alpha: a float object, the given alpha value.\n",
    "    p_value: a float object calculated from the test.\n",
    "    '''\n",
    "    if p_value <= alpha:\n",
    "        print(f'With an alpha value of {alpha} and a p_value of {p_value}, \\nthere is enough statistic evdvidence to reject the null hypothesis')\n",
    "    else:\n",
    "        print(f'With an alpha value of {alpha} and a p_value of {p_value}, \\nthere is no enough statistic evdvidence to reject the null hypothesis')\n",
    "\n",
    "\n",
    "z_test_validator(alpha=alpha, p_value=p_value)"
   ]
  },
  {
   "cell_type": "markdown",
   "id": "7f263c6a",
   "metadata": {},
   "source": [
    "In the cell that follows, a confidence interval with a confidence coefficient of $(1-\\alpha)\\%$ can be constructed to further solidify  the claim. The expectation is that the hypothesized $CTR$ $(0)$ should not be in the resulting $95\\%$ confidence interval.\n",
    "\n",
    "For an $\\alpha$ of $0.05$ the confindence interval $CI$, is given by:\n",
    "$$\n",
    "CI = [(\\bar{p}_1 - \\bar{p}_{2}) \\pm ME]\n",
    "$$\n",
    "Where $ME$ the margin of error is given by:\n",
    "$$\n",
    "ME = Z_{0.025} \\cdot \\sqrt{\\frac{\\bar{p}_{1}(1-\\bar{p}_{1})}{n_{1}}+\\frac{\\bar{p}_{2}(1-\\bar{p}_{2})}{n_{2}}}\n",
    "$$\n",
    "\n",
    "> The standard error here is different from the one used in hypothesis testing. In the case of the hypothesis testing, the standard error is based on the assumption that the null hypothesis is true in which case, the variability in both groups are pooled while in confidence interval estimation, the observed variability is used to compute the standard error."
   ]
  },
  {
   "cell_type": "code",
   "execution_count": null,
   "id": "3327f877",
   "metadata": {},
   "outputs": [
    {
     "name": "stdout",
     "output_type": "stream",
     "text": [
      "The 95% interval is:  [0.4004, 0.425]\n"
     ]
    }
   ],
   "source": [
    "def confidence_interval_calculator(z_crit, p_bar_exp, p_bar_con, N_exp, N_con):\n",
    "    '''\n",
    "    confidence_interval_calculator computes the cofidence interval of thw diference between two population proportions.\n",
    "\n",
    "    Parameters:\n",
    "    ================================\n",
    "    z_crit: floating point object. the z critical values of the experiment.\n",
    "\n",
    "    p_bar_exp: floating point object. The estimated proportion of group 1.\n",
    "\n",
    "    p_bar_con: floating point object. The estimated proportion of group 2.\n",
    "    \n",
    "    N_exp: Int Object: Number of observations in group 1.\n",
    "\n",
    "    N_con: Int Object: Number of observations in group 2.\n",
    "\n",
    "    Return: The function returns a list object with the first item being the lower bound of the \n",
    "    interval and the second item being the upper bound of the interval\n",
    "    '''\n",
    "\n",
    "    p_exp_success = p_bar_exp\n",
    "    p_exp_failure = 1 - p_exp_success\n",
    "\n",
    "    p_con_success = p_bar_con\n",
    "    p_con_failure = 1 - p_con_success\n",
    "\n",
    "    me = z_crit * np.sqrt(((p_exp_success*p_exp_failure)/N_exp) + ((p_con_success*p_con_failure)/N_con))\n",
    "    \n",
    "    point_estimator = p_bar_exp - p_bar_con\n",
    "\n",
    "    upper_bound =  point_estimator + me\n",
    "    lower_bound = point_estimator - me\n",
    "\n",
    "    return [round(float(lower_bound), 4), round(float(upper_bound), 4)]\n",
    "\n",
    "CI = confidence_interval_calculator(z_crit=Z_crit, p_bar_exp=p_bar_exp, p_bar_con=p_bar_con, N_exp=N_exp, N_con=N_con)\n",
    "\n",
    "print('The 95% interval is: ', CI)"
   ]
  },
  {
   "cell_type": "markdown",
   "id": "422fbcf8",
   "metadata": {},
   "source": [
    "The interval above excludes $0$ which further confirms that there is a difference between the $CTR$s of the two groups. Being an interval defined on $\\R^{+}$ shows that the difference is positive. This means that the $CTR$ of the experimental group is higher than the $CTR$ of the control group."
   ]
  }
 ],
 "metadata": {
  "kernelspec": {
   "display_name": "data_sci_env",
   "language": "python",
   "name": "python3"
  },
  "language_info": {
   "codemirror_mode": {
    "name": "ipython",
    "version": 3
   },
   "file_extension": ".py",
   "mimetype": "text/x-python",
   "name": "python",
   "nbconvert_exporter": "python",
   "pygments_lexer": "ipython3",
   "version": "3.13.2"
  }
 },
 "nbformat": 4,
 "nbformat_minor": 5
}
